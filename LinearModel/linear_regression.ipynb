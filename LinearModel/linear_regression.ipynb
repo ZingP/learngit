{
 "cells": [
  {
   "cell_type": "markdown",
   "metadata": {},
   "source": [
    "# 线性回归"
   ]
  },
  {
   "cell_type": "code",
   "execution_count": 1,
   "metadata": {},
   "outputs": [],
   "source": [
    "import numpy as np\n",
    "import math \n",
    "from sklearn.metrics import mean_squared_error\n",
    "from sklearn.datasets import make_regression\n",
    "import matplotlib.pylab as plt"
   ]
  },
  {
   "cell_type": "markdown",
   "metadata": {},
   "source": [
    "## 1 数据准备"
   ]
  },
  {
   "cell_type": "code",
   "execution_count": 2,
   "metadata": {},
   "outputs": [],
   "source": [
    "def shuffle_data(X, y, seed=None):\n",
    "    \"将数据集中的X和y打乱\"\n",
    "    if seed:\n",
    "        np.random.seed(seed)\n",
    "    idx = np.arange(X.shape[0])\n",
    "    np.random.shuffle(idx)\n",
    "    return X[idx], y[idx]"
   ]
  },
  {
   "cell_type": "code",
   "execution_count": 3,
   "metadata": {},
   "outputs": [],
   "source": [
    "def train_test_split(X, y, test_size=0.5, shuffle=True,seed=None):\n",
    "    \"将数据集根据test_size分成训练集和测试集，可以指定是否随机洗牌\"\n",
    "    if shuffle:\n",
    "        X, y = shuffle_data(X, y, seed=seed)\n",
    "    split_i = len(y) - int(len(y) // (1/test_size))\n",
    "    X_train, X_test = X[ :split_i], X[split_i: ]\n",
    "    y_train, y_test = y[ :split_i], y[split_i: ]\n",
    "    return X_train, y_train, X_test, y_test"
   ]
  },
  {
   "cell_type": "code",
   "execution_count": 4,
   "metadata": {},
   "outputs": [],
   "source": [
    "# 关键参数有n_samples（生成样本数），n_features（样本特征数），noise（样本随机噪音）和coef（是否返回回归系数\n",
    "# X为样本特征，y为样本输出， coef为回归系数，共1000个样本，每个样本1个特征\n",
    "# 使用make_regression函数使得X乱序，在绘制matplot的图像时会有问题(线图会展示出乱七八糟的)，所以对于X进行排序\n",
    "X, y = make_regression(n_samples=200, n_features=1, noise=20)"
   ]
  },
  {
   "cell_type": "code",
   "execution_count": 5,
   "metadata": {},
   "outputs": [
    {
     "data": {
      "text/plain": [
       "[<matplotlib.lines.Line2D at 0x1a14f3b1d0>]"
      ]
     },
     "execution_count": 5,
     "metadata": {},
     "output_type": "execute_result"
    },
    {
     "data": {
      "image/png": "[encoded data removed]",
      "text/plain": [
       "<Figure size 432x288 with 1 Axes>"
      ]
     },
     "metadata": {
      "needs_background": "light"
     },
     "output_type": "display_data"
    }
   ],
   "source": [
    "plt.plot(X, y, \"k.\")"
   ]
  },
  {
   "cell_type": "code",
   "execution_count": 6,
   "metadata": {},
   "outputs": [],
   "source": [
    "X_train, y_train, X_test, y_test = train_test_split(X, y, test_size=0.2) "
   ]
  },
  {
   "cell_type": "code",
   "execution_count": 7,
   "metadata": {},
   "outputs": [],
   "source": [
    "s=sorted([(X_test[i][0],y_test[i]) for i in range(len(X_test))],key=lambda j:j[0])"
   ]
  },
  {
   "cell_type": "code",
   "execution_count": 8,
   "metadata": {},
   "outputs": [],
   "source": [
    "X_test=np.array([[j[0]] for j in s])\n",
    "y_test=np.array([j[1] for j in s])"
   ]
  },
  {
   "cell_type": "markdown",
   "metadata": {},
   "source": [
    "## 2 线性回归"
   ]
  },
  {
   "cell_type": "code",
   "execution_count": 9,
   "metadata": {},
   "outputs": [],
   "source": [
    "class Regression(object):\n",
    "    \n",
    "    \"\"\"\n",
    "        基础线性回归模型，使用输入的X和y进行参数回归\n",
    "        超参：\n",
    "        n_iterations:int 训练的步数\n",
    "        learning_rate:float 学习率\n",
    "        内部函数:\n",
    "        initialize_weights:初始化参数\n",
    "        fit:开始训练\n",
    "        predict:预测\n",
    "        内部的数据:\n",
    "        n_iterations\n",
    "        learning_rate\n",
    "        regularization:正则化参数\n",
    "        regularization.grad:正则化的梯度函数\n",
    "    \"\"\"\n",
    "    \n",
    "    def __init__(self,n_iterations,learning_rate):\n",
    "        self.n_iterations = n_iterations\n",
    "        self.learning_rate = learning_rate\n",
    "        self.regularization = lambda x:0\n",
    "        self.regularization.grad = lambda x:0\n",
    "        \n",
    "    # 为什么要这样初始化呢？\n",
    "    def initialize_weights(self,n_features):\n",
    "        \"初始化系数，输入是feature的个数，输出是一个随机初始化好的参数矩阵,[-1/sqrt(N),1/sqrt(N)]\"\n",
    "        limit = 1/math.sqrt(n_features)\n",
    "        self.w = np.random.uniform(-limit,limit,(n_features,))\n",
    "    \n",
    "    def fit(self,X,y):\n",
    "        # 插入偏置列1到X中\n",
    "        X = np.insert(X,0,1,axis=1)  # 给每一行的第0列增加一个1\n",
    "        self.training_errors = []    # 保存每一次步长的训练Loss\n",
    "        self.initialize_weights(n_features=X.shape[1])   # 初始化参数w\n",
    "        \n",
    "        # 进行梯度下降迭代\n",
    "        for i in range(self.n_iterations):\n",
    "            y_pred = X.dot(self.w)    # 进行预测\n",
    "            # 计算Loss\n",
    "            mse=np.mean(0.5*(y-y_pred)**2+self.regularization(self.w))\n",
    "            self.training_errors.append(mse)#将Loss加入到training_errors的数组中\n",
    "            #计算带有正则化项的梯度\n",
    "            g_w=-(y-y_pred).T.dot(X)/len(X)+self.regularization.grad(self.w)\n",
    "            #根据梯度下降的算法更新参数\n",
    "            self.w-=self.learning_rate*g_w\n",
    "            \n",
    "    def predict(self,X):\n",
    "        #通过输入X预测一个样本\n",
    "        X=np.insert(X,0,1,axis=1)\n",
    "        pred=X.dot(self.w)\n",
    "        return pred"
   ]
  },
  {
   "cell_type": "code",
   "execution_count": 10,
   "metadata": {},
   "outputs": [],
   "source": [
    "model=Regression(n_iterations=1000,learning_rate=0.01)"
   ]
  },
  {
   "cell_type": "code",
   "execution_count": 11,
   "metadata": {},
   "outputs": [],
   "source": [
    "model.fit(X_train,y_train)"
   ]
  },
  {
   "cell_type": "code",
   "execution_count": 12,
   "metadata": {},
   "outputs": [
    {
     "data": {
      "text/plain": [
       "Text(0.5, 0, 'Steps')"
      ]
     },
     "execution_count": 12,
     "metadata": {},
     "output_type": "execute_result"
    },
    {
     "data": {
      "image/png": "[encoded data removed]",
      "text/plain": [
       "<Figure size 432x288 with 1 Axes>"
      ]
     },
     "metadata": {
      "needs_background": "light"
     },
     "output_type": "display_data"
    }
   ],
   "source": [
    "training =plt.plot(range(len(model.training_errors)),model.training_errors,label=\"Training Error\")\n",
    "plt.title(\"Linear Regression Training Error\")\n",
    "plt.ylabel(\"Train-Loss\")\n",
    "plt.xlabel(\"Steps\")"
   ]
  },
  {
   "cell_type": "code",
   "execution_count": 13,
   "metadata": {},
   "outputs": [
    {
     "data": {
      "text/plain": [
       "array([ 0.23591073, 72.14025739])"
      ]
     },
     "execution_count": 13,
     "metadata": {},
     "output_type": "execute_result"
    }
   ],
   "source": [
    "model.w"
   ]
  },
  {
   "cell_type": "markdown",
   "metadata": {},
   "source": [
    "## 3 评价模型"
   ]
  },
  {
   "cell_type": "code",
   "execution_count": 14,
   "metadata": {},
   "outputs": [],
   "source": [
    "y_pred = model.predict(X_test)"
   ]
  },
  {
   "cell_type": "code",
   "execution_count": 15,
   "metadata": {},
   "outputs": [],
   "source": [
    "mse = mean_squared_error(y_pred,y_test)"
   ]
  },
  {
   "cell_type": "code",
   "execution_count": 16,
   "metadata": {},
   "outputs": [
    {
     "data": {
      "text/plain": [
       "234.72508859327644"
      ]
     },
     "execution_count": 16,
     "metadata": {},
     "output_type": "execute_result"
    }
   ],
   "source": [
    "mse"
   ]
  },
  {
   "cell_type": "code",
   "execution_count": 17,
   "metadata": {},
   "outputs": [
    {
     "data": {
      "text/plain": [
       "[<matplotlib.lines.Line2D at 0x1a14f62b70>]"
      ]
     },
     "execution_count": 17,
     "metadata": {},
     "output_type": "execute_result"
    },
    {
     "data": {
      "image/png": "[encoded data removed]",
      "text/plain": [
       "<Figure size 432x288 with 1 Axes>"
      ]
     },
     "metadata": {
      "needs_background": "light"
     },
     "output_type": "display_data"
    }
   ],
   "source": [
    "plt.plot(X_test,y_test,'k.')\n",
    "plt.plot(X_test,y_pred,'Y')"
   ]
  },
  {
   "cell_type": "markdown",
   "metadata": {},
   "source": [
    "## 4 最小二乘法线性回归"
   ]
  },
  {
   "cell_type": "code",
   "execution_count": 18,
   "metadata": {},
   "outputs": [],
   "source": [
    "def lsm_function(X,y):\n",
    "    G=np.mat(np.insert(X,0,1,axis=1))\n",
    "    return np.squeeze(np.asarray((G.T.dot(G)).I.dot(G.T).dot(y)))"
   ]
  },
  {
   "cell_type": "code",
   "execution_count": 19,
   "metadata": {},
   "outputs": [
    {
     "data": {
      "text/plain": [
       "array([ 0.23591796, 72.1435142 ])"
      ]
     },
     "execution_count": 19,
     "metadata": {},
     "output_type": "execute_result"
    }
   ],
   "source": [
    "lsm_function(X_train,y_train)"
   ]
  },
  {
   "cell_type": "code",
   "execution_count": 20,
   "metadata": {},
   "outputs": [],
   "source": [
    "class LinearRegression(Regression):\n",
    "    \"\"\"带有最小二乘法的线性回归\n",
    "    参数:\n",
    "    -------------\n",
    "    n_iterations\n",
    "    learning_rate\n",
    "    gradient_descent:bool \n",
    "        决定是否使用梯度下降法，如果是True则使用梯度下降，False使用最小二乘\n",
    "    \"\"\"\n",
    "    def __init__(self,n_iterations=500,learning_rate=0.1,gradient_descent=True):\n",
    "        self.gradient_descent=gradient_descent\n",
    "        self.regularization=lambda x:0\n",
    "        self.regularization.grad=lambda x:0\n",
    "        super(LinearRegression,self).__init__(n_iterations=n_iterations,learning_rate=learning_rate)\n",
    "    \n",
    "    def fit(self,X,y):\n",
    "        if not self.gradient_descent:\n",
    "            self.w=lsm_function(X,y)\n",
    "        else:\n",
    "            super(LinearRegression,self).fit(X,y)\n",
    "    \n",
    "    def predict(self,X):\n",
    "        return super(LinearRegression,self).predict(X)"
   ]
  },
  {
   "cell_type": "code",
   "execution_count": 21,
   "metadata": {},
   "outputs": [],
   "source": [
    "model=LinearRegression(n_iterations=1000,learning_rate=0.1,gradient_descent=False)"
   ]
  },
  {
   "cell_type": "code",
   "execution_count": 22,
   "metadata": {},
   "outputs": [],
   "source": [
    "model.fit(X_train,y_train)"
   ]
  },
  {
   "cell_type": "code",
   "execution_count": 23,
   "metadata": {},
   "outputs": [
    {
     "data": {
      "text/plain": [
       "array([ 0.23591796, 72.1435142 ])"
      ]
     },
     "execution_count": 23,
     "metadata": {},
     "output_type": "execute_result"
    }
   ],
   "source": [
    "model.w"
   ]
  },
  {
   "cell_type": "code",
   "execution_count": 24,
   "metadata": {},
   "outputs": [],
   "source": [
    "def test_and_draw(model):\n",
    "    y_pred=model.predict(X_test)\n",
    "    mse=mean_squared_error(y_test,y_pred)\n",
    "    print(\"方差:\",mse)\n",
    "    plt.plot(X_test,y_test,'k.')\n",
    "    plt.plot(X_test,y_pred,'Y')"
   ]
  },
  {
   "cell_type": "code",
   "execution_count": 25,
   "metadata": {},
   "outputs": [
    {
     "name": "stdout",
     "output_type": "stream",
     "text": [
      "方差: 234.73672427161878\n"
     ]
    },
    {
     "data": {
      "image/png": "[encoded data removed]",
      "text/plain": [
       "<Figure size 432x288 with 1 Axes>"
      ]
     },
     "metadata": {
      "needs_background": "light"
     },
     "output_type": "display_data"
    }
   ],
   "source": [
    "test_and_draw(model)"
   ]
  },
  {
   "cell_type": "markdown",
   "metadata": {},
   "source": [
    "## 5 正则化回归\n",
    "### 5.1 L1 正则化"
   ]
  },
  {
   "cell_type": "code",
   "execution_count": 26,
   "metadata": {},
   "outputs": [],
   "source": [
    "class l1_regularization():\n",
    "    \"\"\"L1正则化类/函数\n",
    "    参数:\n",
    "    \n",
    "    alpha--L1正则化系数\n",
    "    \"\"\"\n",
    "    def __init__(self,alpha):\n",
    "        self.alpha=alpha\n",
    "    def __call__(self,w):\n",
    "        return self.alpha*np.linalg.norm(w,ord=1)\n",
    "    def grad(self,w):\n",
    "        #w>0->w`=1;w<0->w`=0;w==0->w`=0\n",
    "        return self.alpha*np.sign(w)"
   ]
  },
  {
   "cell_type": "code",
   "execution_count": 27,
   "metadata": {},
   "outputs": [],
   "source": [
    "l1=l1_regularization(alpha=0.01)"
   ]
  },
  {
   "cell_type": "code",
   "execution_count": 28,
   "metadata": {},
   "outputs": [
    {
     "data": {
      "text/plain": [
       "0.07"
      ]
     },
     "execution_count": 28,
     "metadata": {},
     "output_type": "execute_result"
    }
   ],
   "source": [
    "l1([-3,4])"
   ]
  },
  {
   "cell_type": "code",
   "execution_count": 29,
   "metadata": {},
   "outputs": [
    {
     "data": {
      "text/plain": [
       "array([-0.01,  0.01,  0.  ])"
      ]
     },
     "execution_count": 29,
     "metadata": {},
     "output_type": "execute_result"
    }
   ],
   "source": [
    "l1.grad([-3,4,0])"
   ]
  },
  {
   "cell_type": "markdown",
   "metadata": {},
   "source": [
    "### 5.2 L2正则化"
   ]
  },
  {
   "cell_type": "code",
   "execution_count": 30,
   "metadata": {},
   "outputs": [],
   "source": [
    "class l2_regularization():\n",
    "    \"\"\"L2正则化参数\n",
    "    参数：\n",
    "    \n",
    "    alpha 正则化系数\n",
    "    \"\"\"\n",
    "    def __init__(self,alpha):\n",
    "        self.alpha=alpha\n",
    "    \n",
    "    def __call__(self,w):\n",
    "        return self.alpha*0.5*w.T.dot(w)\n",
    "    \n",
    "    def grad(self,w):\n",
    "        return self.alpha*w"
   ]
  },
  {
   "cell_type": "markdown",
   "metadata": {},
   "source": [
    "### 5.3 Lasso线性回归"
   ]
  },
  {
   "cell_type": "code",
   "execution_count": 31,
   "metadata": {},
   "outputs": [],
   "source": [
    "class LassoLinearRegression(Regression):\n",
    "    def __init__(self,alpha,n_iterations=1000,learning_rate=0.01):\n",
    "        self.regularization=l1_regularization(alpha=alpha)\n",
    "        super(LassoLinearRegression,self).__init__(n_iterations,learning_rate)\n",
    "        \n",
    "    def fit(self,X,y):\n",
    "        super(LassoLinearRegression,self).fit(X,y)\n",
    "    def predict(self,X):\n",
    "        return super(LassoLinearRegression,self).predict(X)"
   ]
  },
  {
   "cell_type": "code",
   "execution_count": 32,
   "metadata": {},
   "outputs": [],
   "source": [
    "model=LassoLinearRegression(alpha=120,n_iterations=1000,learning_rate=0.1)"
   ]
  },
  {
   "cell_type": "code",
   "execution_count": 33,
   "metadata": {},
   "outputs": [],
   "source": [
    "model.fit(X_train,y_train)"
   ]
  },
  {
   "cell_type": "code",
   "execution_count": 34,
   "metadata": {},
   "outputs": [
    {
     "data": {
      "text/plain": [
       "array([ 0.23591796, 72.1435142 ])"
      ]
     },
     "execution_count": 34,
     "metadata": {},
     "output_type": "execute_result"
    }
   ],
   "source": [
    "model.w"
   ]
  },
  {
   "cell_type": "code",
   "execution_count": 35,
   "metadata": {},
   "outputs": [
    {
     "name": "stdout",
     "output_type": "stream",
     "text": [
      "方差: 234.73672427161858\n"
     ]
    },
    {
     "data": {
      "image/png": "[encoded data removed]",
      "text/plain": [
       "<Figure size 432x288 with 1 Axes>"
      ]
     },
     "metadata": {
      "needs_background": "light"
     },
     "output_type": "display_data"
    }
   ],
   "source": [
    "test_and_draw(model)"
   ]
  },
  {
   "cell_type": "code",
   "execution_count": 36,
   "metadata": {},
   "outputs": [],
   "source": [
    "f = lambda x:0"
   ]
  },
  {
   "cell_type": "code",
   "execution_count": 37,
   "metadata": {},
   "outputs": [
    {
     "data": {
      "text/plain": [
       "0"
      ]
     },
     "execution_count": 37,
     "metadata": {},
     "output_type": "execute_result"
    }
   ],
   "source": [
    "f(2)"
   ]
  },
  {
   "cell_type": "markdown",
   "metadata": {},
   "source": [
    "## 疑问\n",
    "1 初始参数的选择？\n",
    "2 梯度下降的实现过程：不太明白梯度怎么计算的。"
   ]
  },
  {
   "cell_type": "markdown",
   "metadata": {},
   "source": [
    "### 5.4 Ridge线性回归"
   ]
  },
  {
   "cell_type": "code",
   "execution_count": 38,
   "metadata": {},
   "outputs": [],
   "source": [
    "class RidgeLinearRegression(Regression):\n",
    "    def __init__(self, alpha,n_iterations=1000,learning_rate=0.01):\n",
    "        self.ragularization = l2_regularization(alpha=alpha)\n",
    "        super(RidgeLinearRegression, self).__init__(n_iterations, learning_rate)\n",
    "        \n",
    "    def fit(self, X, y):\n",
    "        super(RidgeLinearRegression, self).fit(X, y)\n",
    "    \n",
    "    def predict(self, X):\n",
    "        return super(RidgeLinearRegression, self).predict(X)"
   ]
  },
  {
   "cell_type": "code",
   "execution_count": 39,
   "metadata": {},
   "outputs": [],
   "source": [
    "ridge_model = RidgeLinearRegression(alpha=120, n_iterations=1000, learning_rate=0.01)"
   ]
  },
  {
   "cell_type": "code",
   "execution_count": 40,
   "metadata": {},
   "outputs": [],
   "source": [
    "ridge_model.fit(X_train, y_train)"
   ]
  },
  {
   "cell_type": "code",
   "execution_count": 41,
   "metadata": {},
   "outputs": [
    {
     "data": {
      "text/plain": [
       "array([ 0.23588156, 72.14023411])"
      ]
     },
     "execution_count": 41,
     "metadata": {},
     "output_type": "execute_result"
    }
   ],
   "source": [
    "ridge_model.w"
   ]
  },
  {
   "cell_type": "code",
   "execution_count": 42,
   "metadata": {},
   "outputs": [
    {
     "name": "stdout",
     "output_type": "stream",
     "text": [
      "方差: 234.72513614690016\n"
     ]
    },
    {
     "data": {
      "image/png": "[encoded data removed]",
      "text/plain": [
       "<Figure size 432x288 with 1 Axes>"
      ]
     },
     "metadata": {
      "needs_background": "light"
     },
     "output_type": "display_data"
    }
   ],
   "source": [
    "test_and_draw(ridge_model)"
   ]
  },
  {
   "cell_type": "markdown",
   "metadata": {},
   "source": []
  },
  {
   "cell_type": "markdown",
   "metadata": {},
   "source": [
    "### 5.5 L1/L2调和的正则化\n",
    "- 在调和的正则化中：\n",
    "    - l1_ratio:在调和时，L1正则化的值所占的百分比[0,1]\n",
    "    - l2_ratio=1 - l1_ratio（事实上算法中也找不到l2_ratio）\n",
    "    - alpha: 全局整体的正则化权重\n",
    "    - $ Loss = mse + \\alpha * (l1\\_ratio * L1Loss) + (1-l1\\_ratio) * L2Loss) $"
   ]
  },
  {
   "cell_type": "code",
   "execution_count": 43,
   "metadata": {},
   "outputs": [],
   "source": [
    "class l1_l2_regularization():\n",
    "    \"\"\"使用在ElasticNet中的正则化\"\"\"\n",
    "    def __init__(self, alpha, l1_ratio=0.5):\n",
    "        self.alpha = alpha\n",
    "        self.l1_ratio = l1_ratio\n",
    "        \n",
    "    def __call__(self, w):\n",
    "        l1_loss = self.l1_ratio * np.linalg.norm(w, ord=1)\n",
    "        l2_loss = (1- self.l1_ratio)*0.5*np.linalg.norm(w)**2\n",
    "        return self.alpha*(l1_loss + l2_loss)\n",
    "    \n",
    "    def grad(self, w):\n",
    "        l1_grad = self.l1_ratio*np.sign(w)\n",
    "        l2_grad = (1-self.l1_ratio)*w\n",
    "        return self.alpha*(l1_grad + l2_grad)"
   ]
  },
  {
   "cell_type": "code",
   "execution_count": 44,
   "metadata": {},
   "outputs": [],
   "source": [
    "l1_l2 = l1_l2_regularization(alpha=0.1)"
   ]
  },
  {
   "cell_type": "code",
   "execution_count": 45,
   "metadata": {},
   "outputs": [
    {
     "data": {
      "text/plain": [
       "0.9750000000000001"
      ]
     },
     "execution_count": 45,
     "metadata": {},
     "output_type": "execute_result"
    }
   ],
   "source": [
    "l1_l2(np.array([3, 4]))"
   ]
  },
  {
   "cell_type": "markdown",
   "metadata": {},
   "source": [
    "### 5.6 ElasticNet线性回归"
   ]
  },
  {
   "cell_type": "code",
   "execution_count": 46,
   "metadata": {},
   "outputs": [],
   "source": [
    "class ElasticNetLinearRegression(Regression):\n",
    "    def __init__(self, alpha, l1_ratio, n_iterations=2000, learning_rate=0.01):\n",
    "        self.regularazition = l1_l2_regularization(alpha, l1_ratio=0.5)\n",
    "        super(ElasticNetLinearRegression,self).__init__(n_iterations, learning_rate)\n",
    "    \n",
    "    def fit(self, X, y):\n",
    "        super(ElasticNetLinearRegression,self).fit(X, y)\n",
    "    \n",
    "    def predict(self, X):\n",
    "        return super(ElasticNetLinearRegression,self).predict(X)"
   ]
  },
  {
   "cell_type": "code",
   "execution_count": 47,
   "metadata": {},
   "outputs": [],
   "source": [
    "elastic_model = ElasticNetLinearRegression(alpha=1.2, l1_ratio=0.5)"
   ]
  },
  {
   "cell_type": "code",
   "execution_count": 48,
   "metadata": {},
   "outputs": [],
   "source": [
    "elastic_model.fit(X_train, y_train)"
   ]
  },
  {
   "cell_type": "code",
   "execution_count": 49,
   "metadata": {},
   "outputs": [
    {
     "name": "stdout",
     "output_type": "stream",
     "text": [
      "方差: 234.7367237413126\n"
     ]
    },
    {
     "data": {
      "image/png": "[encoded data removed]",
      "text/plain": [
       "<Figure size 432x288 with 1 Axes>"
      ]
     },
     "metadata": {
      "needs_background": "light"
     },
     "output_type": "display_data"
    }
   ],
   "source": [
    "test_and_draw(elastic_model)"
   ]
  },
  {
   "cell_type": "markdown",
   "metadata": {},
   "source": [
    "## 6 多项式回归\n",
    "- 一阶多项式：$x_1,x_2,x_3$\n",
    "- 二阶多项式：$x_1^2, x_2^2, x_3^2,x_1x_2,x_1x_3,x_2x_3$\n",
    "- 三阶多项式：$x_1^3, x_2^3...$"
   ]
  },
  {
   "cell_type": "markdown",
   "metadata": {},
   "source": [
    "### 6.1 构造多项式特征"
   ]
  },
  {
   "cell_type": "code",
   "execution_count": 50,
   "metadata": {},
   "outputs": [],
   "source": [
    "from itertools import combinations_with_replacement\n",
    "\n",
    "def polynomial_features(X, degree):\n",
    "    n_samples, n_features = np.shape(X)\n",
    "    \n",
    "    # 对于每一行的feature构造排列组合，根据排列组合进行特征乘积，形成新的X`\n",
    "    def index_combinations():\n",
    "        combs = [combinations_with_replacement(range(n_features),i) for i in range(0, degree+1)]\n",
    "        new_combs = [item for sub in combs for item in sub]\n",
    "        return new_combs\n",
    "    # print(\"Feature 列的排列组合：->\", [x for x in index_combinations()])\n",
    "    comb = index_combinations()\n",
    "    feature_length = len(comb)\n",
    "    output = np.empty((n_samples, feature_length))\n",
    "    # print(output.shape)\n",
    "    for i, index_combs in enumerate(comb):\n",
    "        # print(i, index_combs)\n",
    "        # 元素乘积\n",
    "        output[:, i]= np.prod(X[:, index_combs], axis=1)\n",
    "    return output"
   ]
  },
  {
   "cell_type": "code",
   "execution_count": 51,
   "metadata": {},
   "outputs": [
    {
     "data": {
      "text/plain": [
       "array([[ 1.,  1.,  2.,  1.,  2.,  4.],\n",
       "       [ 1.,  4.,  5., 16., 20., 25.]])"
      ]
     },
     "execution_count": 51,
     "metadata": {},
     "output_type": "execute_result"
    }
   ],
   "source": [
    "polynomial_features(np.array([[1,2], [4,5]]), degree=2)"
   ]
  },
  {
   "cell_type": "code",
   "execution_count": 52,
   "metadata": {},
   "outputs": [
    {
     "data": {
      "text/plain": [
       "array([[1, 2],\n",
       "       [4, 5]])"
      ]
     },
     "execution_count": 52,
     "metadata": {},
     "output_type": "execute_result"
    }
   ],
   "source": [
    "a = np.array([[1,2], [4,5]])\n",
    "a"
   ]
  },
  {
   "cell_type": "code",
   "execution_count": 53,
   "metadata": {},
   "outputs": [
    {
     "data": {
      "text/plain": [
       "array([ 2, 20])"
      ]
     },
     "execution_count": 53,
     "metadata": {},
     "output_type": "execute_result"
    }
   ],
   "source": [
    "np.prod(a[:, (0,1)], axis=1)"
   ]
  },
  {
   "cell_type": "code",
   "execution_count": 85,
   "metadata": {},
   "outputs": [],
   "source": [
    "class PolyRegression(Regression):\n",
    "    \"\"\"\n",
    "    多项式回归就是将原来的feature转化成多阶的新feature，之后进行线性回归。\n",
    "    ----------------\n",
    "    degree：最大的阶数\n",
    "    n_iterations:int\n",
    "    learning_rate:float\n",
    "    \"\"\"\n",
    "    def __init__(self, degree, n_iterations=3000, learning_rate=0.01):\n",
    "        self.degree = degree\n",
    "        self.regularization = lambda x:0\n",
    "        self.regularization.grad = lambda x:0\n",
    "        super(PolyRegression, self).__init__(n_iterations, learning_rate)\n",
    "    \n",
    "    def fit(self, X, y):\n",
    "        X = polynomial_features(X, degree=self.degree)\n",
    "        super(PolyRegression, self).fit(X, y)\n",
    "    \n",
    "    def predict(self, X):\n",
    "        X = polynomial_features(X, degree=self.degree)\n",
    "        return super(PolyRegression, self).predict(X)\n",
    "       "
   ]
  },
  {
   "cell_type": "code",
   "execution_count": 86,
   "metadata": {},
   "outputs": [],
   "source": [
    "poly_model = PolyRegression(degree=4)"
   ]
  },
  {
   "cell_type": "code",
   "execution_count": 87,
   "metadata": {},
   "outputs": [],
   "source": [
    "poly_model.fit(X_train, y_train)"
   ]
  },
  {
   "cell_type": "code",
   "execution_count": 88,
   "metadata": {},
   "outputs": [
    {
     "name": "stdout",
     "output_type": "stream",
     "text": [
      "方差: 243.92632544029775\n"
     ]
    },
    {
     "data": {
      "image/png": "[encoded data removed]",
      "text/plain": [
       "<Figure size 432x288 with 1 Axes>"
      ]
     },
     "metadata": {
      "needs_background": "light"
     },
     "output_type": "display_data"
    }
   ],
   "source": [
    "test_and_draw(poly_model)"
   ]
  },
  {
   "cell_type": "markdown",
   "metadata": {},
   "source": [
    "## 7 数据的Normalize变换（归一化操作）\n",
    "- 行归一化"
   ]
  },
  {
   "cell_type": "code",
   "execution_count": 89,
   "metadata": {},
   "outputs": [],
   "source": [
    "def normalize(X, axis=-1, order=2):\n",
    "    \"\"\"将数据集的每一行进行列的归一化，--每一行的向量的L2范数归一\"\"\"\n",
    "    L2 = np.linalg.norm(X, order, axis)\n",
    "    L2[L2==0] = 1 # 为了过滤掉为0的L2距离，在归一化的时候会出现除零问题\n",
    "    return X/np.expand_dims(L2, axis)"
   ]
  },
  {
   "cell_type": "code",
   "execution_count": 90,
   "metadata": {},
   "outputs": [
    {
     "data": {
      "text/plain": [
       "array([2.23606798, 5.        ])"
      ]
     },
     "execution_count": 90,
     "metadata": {},
     "output_type": "execute_result"
    }
   ],
   "source": [
    "a = np.linalg.norm([[1,2], [3,4]], ord=2, axis=-1)\n",
    "a"
   ]
  },
  {
   "cell_type": "code",
   "execution_count": 91,
   "metadata": {},
   "outputs": [
    {
     "data": {
      "text/plain": [
       "array([[2.23606798],\n",
       "       [5.        ]])"
      ]
     },
     "execution_count": 91,
     "metadata": {},
     "output_type": "execute_result"
    }
   ],
   "source": [
    "np.expand_dims(a,axis=-1)"
   ]
  },
  {
   "cell_type": "code",
   "execution_count": 92,
   "metadata": {},
   "outputs": [
    {
     "data": {
      "text/plain": [
       "array([[0.4472136 , 0.89442719],\n",
       "       [0.6       , 0.8       ]])"
      ]
     },
     "execution_count": 92,
     "metadata": {},
     "output_type": "execute_result"
    }
   ],
   "source": [
    "normalize([[1,2], [3,4]], axis=-1, order=2)"
   ]
  },
  {
   "cell_type": "markdown",
   "metadata": {},
   "source": [
    "## 8 多项式的Lasso回归"
   ]
  },
  {
   "cell_type": "code",
   "execution_count": null,
   "metadata": {},
   "outputs": [],
   "source": []
  }
 ],
 "metadata": {
  "kernelspec": {
   "display_name": "Python 3",
   "language": "python",
   "name": "python3"
  },
  "language_info": {
   "codemirror_mode": {
    "name": "ipython",
    "version": 3
   },
   "file_extension": ".py",
   "mimetype": "text/x-python",
   "name": "python",
   "nbconvert_exporter": "python",
   "pygments_lexer": "ipython3",
   "version": "3.6.8"
  }
 },
 "nbformat": 4,
 "nbformat_minor": 2
}
