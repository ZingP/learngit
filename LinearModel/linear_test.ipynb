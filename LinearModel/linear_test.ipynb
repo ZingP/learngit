{
 "cells": [
  {
   "cell_type": "code",
   "execution_count": 1,
   "metadata": {},
   "outputs": [],
   "source": [
    "import numpy as np\n",
    "import math \n",
    "from sklearn.metrics import mean_squared_error\n",
    "from sklearn.datasets import make_regression\n",
    "import matplotlib.pylab as plt"
   ]
  },
  {
   "cell_type": "code",
   "execution_count": 2,
   "metadata": {},
   "outputs": [],
   "source": [
    "def initialize_weights(n_features):\n",
    "        \"初始化系数，输入是feature的个数，输出是一个随机初始化好的参数矩阵,[-1/sqrt(N),1/sqrt(N)]\"\n",
    "        limit = 1/math.sqrt(n_features)\n",
    "        print(\"limit:\", limit)\n",
    "        self.w = np.random.uniform(-limit,limit,(n_features,))"
   ]
  },
  {
   "cell_type": "code",
   "execution_count": 11,
   "metadata": {},
   "outputs": [
    {
     "data": {
      "text/plain": [
       "array([-0.32951956,  0.11353005,  0.09244488])"
      ]
     },
     "execution_count": 11,
     "metadata": {},
     "output_type": "execute_result"
    }
   ],
   "source": [
    "np.random.uniform(-1/3, 1/3, (3,))"
   ]
  },
  {
   "cell_type": "code",
   "execution_count": 10,
   "metadata": {},
   "outputs": [
    {
     "data": {
      "text/plain": [
       "2.0"
      ]
     },
     "execution_count": 10,
     "metadata": {},
     "output_type": "execute_result"
    }
   ],
   "source": [
    "math.sqrt(4)"
   ]
  },
  {
   "cell_type": "code",
   "execution_count": 12,
   "metadata": {},
   "outputs": [
    {
     "data": {
      "text/plain": [
       "array([[-0.46404503, -0.47790051],\n",
       "       [-0.80431824,  0.20876755],\n",
       "       [-0.00509597,  0.73972526]])"
      ]
     },
     "execution_count": 12,
     "metadata": {},
     "output_type": "execute_result"
    }
   ],
   "source": [
    "a = np.random.uniform(-1, 1, (3,2))\n",
    "a"
   ]
  },
  {
   "cell_type": "code",
   "execution_count": 13,
   "metadata": {},
   "outputs": [
    {
     "data": {
      "text/plain": [
       "array([[ 1.        , -0.46404503, -0.47790051],\n",
       "       [ 1.        , -0.80431824,  0.20876755],\n",
       "       [ 1.        , -0.00509597,  0.73972526]])"
      ]
     },
     "execution_count": 13,
     "metadata": {},
     "output_type": "execute_result"
    }
   ],
   "source": [
    "np.insert(a,0,1,axis=1)"
   ]
  },
  {
   "cell_type": "code",
   "execution_count": 14,
   "metadata": {},
   "outputs": [
    {
     "data": {
      "text/plain": [
       "array([[ 1.        ,  1.        ],\n",
       "       [-0.46404503, -0.47790051],\n",
       "       [-0.80431824,  0.20876755],\n",
       "       [-0.00509597,  0.73972526]])"
      ]
     },
     "execution_count": 14,
     "metadata": {},
     "output_type": "execute_result"
    }
   ],
   "source": [
    "np.insert(a, 0, 1, axis=0)"
   ]
  },
  {
   "cell_type": "code",
   "execution_count": 28,
   "metadata": {},
   "outputs": [
    {
     "data": {
      "text/plain": [
       "3.25"
      ]
     },
     "execution_count": 28,
     "metadata": {},
     "output_type": "execute_result"
    }
   ],
   "source": [
    "# 求均值\n",
    "np.mean(np.array([[4,2],[3,4]]))"
   ]
  },
  {
   "cell_type": "code",
   "execution_count": 29,
   "metadata": {},
   "outputs": [
    {
     "data": {
      "text/plain": [
       "6.0"
      ]
     },
     "execution_count": 29,
     "metadata": {},
     "output_type": "execute_result"
    }
   ],
   "source": [
    "np.linalg.norm([1,2,3], ord=1)"
   ]
  },
  {
   "cell_type": "code",
   "execution_count": 31,
   "metadata": {},
   "outputs": [
    {
     "data": {
      "text/plain": [
       "5.0"
      ]
     },
     "execution_count": 31,
     "metadata": {},
     "output_type": "execute_result"
    }
   ],
   "source": [
    "np.linalg.norm([3, 4])  # sqrt(3**2+4**2)"
   ]
  },
  {
   "cell_type": "code",
   "execution_count": 32,
   "metadata": {},
   "outputs": [
    {
     "data": {
      "text/plain": [
       "\u001b[0;31mSignature:\u001b[0m\n",
       "\u001b[0mnp\u001b[0m\u001b[0;34m.\u001b[0m\u001b[0mprod\u001b[0m\u001b[0;34m(\u001b[0m\u001b[0;34m\u001b[0m\n",
       "\u001b[0;34m\u001b[0m    \u001b[0;34m[\u001b[0m\u001b[0;34m'a'\u001b[0m\u001b[0;34m,\u001b[0m \u001b[0;34m'axis=None'\u001b[0m\u001b[0;34m,\u001b[0m \u001b[0;34m'dtype=None'\u001b[0m\u001b[0;34m,\u001b[0m \u001b[0;34m'out=None'\u001b[0m\u001b[0;34m,\u001b[0m \u001b[0;34m'keepdims=<no value>'\u001b[0m\u001b[0;34m,\u001b[0m \u001b[0;34m'initial=<no value>'\u001b[0m\u001b[0;34m]\u001b[0m\u001b[0;34m,\u001b[0m\u001b[0;34m\u001b[0m\n",
       "\u001b[0;34m\u001b[0m\u001b[0;34m)\u001b[0m\u001b[0;34m\u001b[0m\u001b[0;34m\u001b[0m\u001b[0m\n",
       "\u001b[0;31mDocstring:\u001b[0m\n",
       "Return the product of array elements over a given axis.\n",
       "\n",
       "Parameters\n",
       "----------\n",
       "a : array_like\n",
       "    Input data.\n",
       "axis : None or int or tuple of ints, optional\n",
       "    Axis or axes along which a product is performed.  The default,\n",
       "    axis=None, will calculate the product of all the elements in the\n",
       "    input array. If axis is negative it counts from the last to the\n",
       "    first axis.\n",
       "\n",
       "    .. versionadded:: 1.7.0\n",
       "\n",
       "    If axis is a tuple of ints, a product is performed on all of the\n",
       "    axes specified in the tuple instead of a single axis or all the\n",
       "    axes as before.\n",
       "dtype : dtype, optional\n",
       "    The type of the returned array, as well as of the accumulator in\n",
       "    which the elements are multiplied.  The dtype of `a` is used by\n",
       "    default unless `a` has an integer dtype of less precision than the\n",
       "    default platform integer.  In that case, if `a` is signed then the\n",
       "    platform integer is used while if `a` is unsigned then an unsigned\n",
       "    integer of the same precision as the platform integer is used.\n",
       "out : ndarray, optional\n",
       "    Alternative output array in which to place the result. It must have\n",
       "    the same shape as the expected output, but the type of the output\n",
       "    values will be cast if necessary.\n",
       "keepdims : bool, optional\n",
       "    If this is set to True, the axes which are reduced are left in the\n",
       "    result as dimensions with size one. With this option, the result\n",
       "    will broadcast correctly against the input array.\n",
       "\n",
       "    If the default value is passed, then `keepdims` will not be\n",
       "    passed through to the `prod` method of sub-classes of\n",
       "    `ndarray`, however any non-default value will be.  If the\n",
       "    sub-class' method does not implement `keepdims` any\n",
       "    exceptions will be raised.\n",
       "initial : scalar, optional\n",
       "    The starting value for this product. See `~numpy.ufunc.reduce` for details.\n",
       "\n",
       "    .. versionadded:: 1.15.0\n",
       "\n",
       "Returns\n",
       "-------\n",
       "product_along_axis : ndarray, see `dtype` parameter above.\n",
       "    An array shaped as `a` but with the specified axis removed.\n",
       "    Returns a reference to `out` if specified.\n",
       "\n",
       "See Also\n",
       "--------\n",
       "ndarray.prod : equivalent method\n",
       "numpy.doc.ufuncs : Section \"Output arguments\"\n",
       "\n",
       "Notes\n",
       "-----\n",
       "Arithmetic is modular when using integer types, and no error is\n",
       "raised on overflow.  That means that, on a 32-bit platform:\n",
       "\n",
       ">>> x = np.array([536870910, 536870910, 536870910, 536870910])\n",
       ">>> np.prod(x)  # random\n",
       "16\n",
       "\n",
       "The product of an empty array is the neutral element 1:\n",
       "\n",
       ">>> np.prod([])\n",
       "1.0\n",
       "\n",
       "Examples\n",
       "--------\n",
       "By default, calculate the product of all elements:\n",
       "\n",
       ">>> np.prod([1.,2.])\n",
       "2.0\n",
       "\n",
       "Even when the input array is two-dimensional:\n",
       "\n",
       ">>> np.prod([[1.,2.],[3.,4.]])\n",
       "24.0\n",
       "\n",
       "But we can also specify the axis over which to multiply:\n",
       "\n",
       ">>> np.prod([[1.,2.],[3.,4.]], axis=1)\n",
       "array([  2.,  12.])\n",
       "\n",
       "If the type of `x` is unsigned, then the output type is\n",
       "the unsigned platform integer:\n",
       "\n",
       ">>> x = np.array([1, 2, 3], dtype=np.uint8)\n",
       ">>> np.prod(x).dtype == np.uint\n",
       "True\n",
       "\n",
       "If `x` is of a signed integer type, then the output type\n",
       "is the default platform integer:\n",
       "\n",
       ">>> x = np.array([1, 2, 3], dtype=np.int8)\n",
       ">>> np.prod(x).dtype == int\n",
       "True\n",
       "\n",
       "You can also start the product with a value other than one:\n",
       "\n",
       ">>> np.prod([1, 2], initial=5)\n",
       "10\n",
       "\u001b[0;31mFile:\u001b[0m      ~/anaconda3/lib/python3.6/site-packages/numpy/core/fromnumeric.py\n",
       "\u001b[0;31mType:\u001b[0m      function\n"
      ]
     },
     "metadata": {},
     "output_type": "display_data"
    }
   ],
   "source": [
    "?np.prod"
   ]
  },
  {
   "cell_type": "code",
   "execution_count": null,
   "metadata": {},
   "outputs": [],
   "source": []
  }
 ],
 "metadata": {
  "kernelspec": {
   "display_name": "Python 3",
   "language": "python",
   "name": "python3"
  },
  "language_info": {
   "codemirror_mode": {
    "name": "ipython",
    "version": 3
   },
   "file_extension": ".py",
   "mimetype": "text/x-python",
   "name": "python",
   "nbconvert_exporter": "python",
   "pygments_lexer": "ipython3",
   "version": "3.6.8"
  }
 },
 "nbformat": 4,
 "nbformat_minor": 2
}
