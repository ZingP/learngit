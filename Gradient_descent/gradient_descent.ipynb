{
 "cells": [
  {
   "cell_type": "markdown",
   "metadata": {},
   "source": [
    "# 梯度下降\n",
    "\n",
    "- 题目：\n",
    "    求解：$argmin\\frac{1}{2}[(x_{1}+x_{2}-4)^2 + (2x_{1}+3x_{2}-7)^2 + (4x_{1}+x_{2}-9)^2]$\n",
    "\n",
    "- 梯度下降迭代公式：\n",
    "    $\\theta^{t} = \\theta^{t-1} - \\alpha L'(\\theta^{t-1})$\n",
    "    \n",
    "## 梯度下降法\n"
   ]
  },
  {
   "cell_type": "code",
   "execution_count": 1,
   "metadata": {},
   "outputs": [
    {
     "data": {
      "text/plain": [
       "(1.9987027392533656, 1.092923742270406, 0.4545566995437954)"
      ]
     },
     "execution_count": 1,
     "metadata": {},
     "output_type": "execute_result"
    }
   ],
   "source": [
    "# 原函数\n",
    "def argminf(x1, x2):\n",
    "    r = ((x1+x2-4)**2 + (2*x1+3*x2 - 7)**2 + (4*x1+x2-9)**2)*0.5\n",
    "    return r\n",
    "\n",
    "\n",
    "# 全量计算一阶偏导的值\n",
    "def deriv_x(x1, x2):\n",
    "    r1 = (x1+x2-4) + (2*x1+3*x2-7)*2 + (4*x1+x2-9)*4\n",
    "    r2 = (x1+x2-4) + (2*x1+3*x2-7)*3 + (4*x1+x2-9)\n",
    "    return r1, r2\n",
    "\n",
    "# 梯度下降算法\n",
    "def gradient_decs(n):\n",
    "    alpha = 0.01     # 步长\n",
    "    x1, x2 = 0, 0    # 初始值\n",
    "    y1 = argminf(x1, x2)\n",
    "    for i in range(n):\n",
    "        deriv1, deriv2 = deriv_x(x1, x2)\n",
    "        x1 = x1 - alpha * deriv1\n",
    "        x2 = x2 - alpha * deriv2\n",
    "        y2 = argminf(x1, x2)\n",
    "        if y1 - y2 < 1e-6:\n",
    "            return x1, x2, y2\n",
    "        if y2 < y1:\n",
    "            y1 = y2\n",
    "    return x1, x2, y2\n",
    "\n",
    "# 迭代1000次结果\n",
    "gradient_decs(1000)"
   ]
  },
  {
   "cell_type": "markdown",
   "metadata": {},
   "source": [
    "## 随机梯度下降"
   ]
  },
  {
   "cell_type": "code",
   "execution_count": 2,
   "metadata": {},
   "outputs": [
    {
     "data": {
      "text/plain": [
       "(1.997731614486791, 1.0886202324112748, 0.4546854090110052)"
      ]
     },
     "execution_count": 2,
     "metadata": {},
     "output_type": "execute_result"
    }
   ],
   "source": [
    "# 随机计算一阶偏导的值\n",
    "def rand_deriv(x1, x2):\n",
    "    import random\n",
    "    r1, r2 = 0, 0\n",
    "    rand = random.randint(0, 2)\n",
    "    if rand == 0:\n",
    "        r1 = x1+x2-4\n",
    "        r2 = x1+x2-4\n",
    "    elif rand == 1:\n",
    "        r1 = (2*x1+3*x2-7)*2\n",
    "        r2 = (2*x1+3*x2-7)*3\n",
    "    else:\n",
    "        r1 = (4*x1+x2-9)*4\n",
    "        r2 = (4*x1+x2-9)\n",
    "    return r1, r2\n",
    "\n",
    "# 随机梯度下降\n",
    "def random_grad_decs(n):\n",
    "    alpha = 0.01\n",
    "    x1, x2 = 0, 0\n",
    "    y1 = argminf(x1, x2)\n",
    "    y2 = 0\n",
    "    for i in range(n):\n",
    "        deriv1, deriv2 = rand_deriv(x1, x2)\n",
    "        x1 = x1 - alpha * deriv1\n",
    "        x2 = x2 - alpha * deriv2\n",
    "        y2 = argminf(x1, x2)\n",
    "        if y2 < y1:\n",
    "            y1 = y2\n",
    "    return x1, x2, y2\n",
    "\n",
    "# 随机梯度下降迭代1000次结果\n",
    "random_grad_decs(1000)"
   ]
  },
  {
   "cell_type": "markdown",
   "metadata": {},
   "source": [
    "对比 梯度下降和随机梯度下降结果，相差不多，但是计算量小了。"
   ]
  },
  {
   "cell_type": "code",
   "execution_count": 3,
   "metadata": {},
   "outputs": [
    {
     "name": "stdout",
     "output_type": "stream",
     "text": [
      "1.9981444921211036 1.095278227958046 0.4591081614370429\n"
     ]
    }
   ],
   "source": [
    "# 随机梯度10计算求平均\n",
    "x1, x2, y = 0, 0, 0\n",
    "for i in range(10):\n",
    "    r1, r2, r3 = random_grad_decs(1000)\n",
    "    x1 += r1\n",
    "    x2 += r2\n",
    "    y += r3\n",
    "print(x1/10, x2/10, y/10)"
   ]
  },
  {
   "cell_type": "code",
   "execution_count": null,
   "metadata": {},
   "outputs": [],
   "source": []
  }
 ],
 "metadata": {
  "kernelspec": {
   "display_name": "Python 3",
   "language": "python",
   "name": "python3"
  },
  "language_info": {
   "codemirror_mode": {
    "name": "ipython",
    "version": 3
   },
   "file_extension": ".py",
   "mimetype": "text/x-python",
   "name": "python",
   "nbconvert_exporter": "python",
   "pygments_lexer": "ipython3",
   "version": "3.6.5"
  },
  "toc": {
   "base_numbering": 1,
   "nav_menu": {},
   "number_sections": true,
   "sideBar": true,
   "skip_h1_title": false,
   "title_cell": "Table of Contents",
   "title_sidebar": "Contents",
   "toc_cell": false,
   "toc_position": {},
   "toc_section_display": true,
   "toc_window_display": false
  }
 },
 "nbformat": 4,
 "nbformat_minor": 2
}
