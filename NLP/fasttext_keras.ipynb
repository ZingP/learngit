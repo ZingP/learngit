{
 "cells": [
  {
   "cell_type": "code",
   "execution_count": 1,
   "metadata": {},
   "outputs": [
    {
     "name": "stderr",
     "output_type": "stream",
     "text": [
      "Using TensorFlow backend.\n"
     ]
    }
   ],
   "source": [
    "import numpy as np\n",
    "import tensorflow as tf\n",
    "import jieba\n",
    "import keras\n",
    "from keras import utils\n",
    "from keras.preprocessing import sequence\n",
    "from keras.backend.tensorflow_backend import set_session\n",
    "from keras.layers import Embedding,Dense,GlobalAveragePooling1D,Input,Activation\n",
    "from keras.models import Model,Sequential\n",
    "import matplotlib.pyplot as plt"
   ]
  },
  {
   "cell_type": "code",
   "execution_count": 2,
   "metadata": {},
   "outputs": [],
   "source": [
    "# GPU使用配置\n",
    "config = tf.ConfigProto()\n",
    "config.gpu_options.per_process_gpu_memory_fraction = 0.8  # 比例\n",
    "config.gpu_options.allow_growth = True    # 按需\n",
    "set_session(tf.Session(config=config))\n",
    "\n",
    "np.random.seed(123)"
   ]
  },
  {
   "cell_type": "code",
   "execution_count": 3,
   "metadata": {},
   "outputs": [],
   "source": [
    "def filter_word_frec_dic(word_frec_dic, min_num):\n",
    "    word_frec_dic_new = {}\n",
    "    for word, num in word_frec_dic.items():\n",
    "        if num >= min_num:\n",
    "            word_frec_dic_new[word] = num\n",
    "    return word_frec_dic_new\n",
    "    \n",
    "# 获得词频字典\n",
    "def get_word_frec_dic(filename):\n",
    "    label_set = set()\n",
    "    # 统计文档词频\n",
    "    word_freq_dic = {}\n",
    "    special_symbol = ['', '\\t', ',', ':', ';', '。']\n",
    "    with open(filename, 'r', encoding='utf-8') as f:\n",
    "        for line in f:\n",
    "            label, sentence = line.strip().split('\\t')\n",
    "            if len(label) != 0:\n",
    "                label_set.add(label) \n",
    "            word_list = jieba.cut(sentence)   # 生成器\n",
    "            for word in word_list:\n",
    "                word = word.strip()\n",
    "                if word in special_symbol:  # 过滤特殊符号\n",
    "                    continue\n",
    "                if word not in word_freq_dic:\n",
    "                    word_freq_dic[word] = 1\n",
    "                else:\n",
    "                    word_freq_dic[word] += 1\n",
    "    return word_freq_dic, label_set\n",
    "\n",
    "# 不需要考虑顺序，为Word、label建立索引\n",
    "def get_word_label_2index(word_frec_dic, label_set):\n",
    "    \"\"\"\n",
    "    input:\n",
    "        word_frac_dic: {\"word1\":123, \"word2\":345, ...}\n",
    "        label_set: {\"体育\", \"娱乐\", ...}\n",
    "    \n",
    "    output:\n",
    "        word2index: {\"word1\":0, \"word2\":1, ...}\n",
    "        label2index: {\"体育\":0, \"娱乐\":1, ...}\n",
    "    \"\"\"\n",
    "    word2index = {}\n",
    "    lenth = len(word_frec_dic)\n",
    "    for i, word in zip(range(lenth), word_frec_dic):\n",
    "        word2index[word] = i\n",
    "\n",
    "    label2index = {}\n",
    "    for i, label in zip(range(len(label_set)), label_set):\n",
    "        label2index[label] = i\n",
    "    return word2index, label2index\n",
    "\n",
    "\n",
    "def create_train_data(filename, word2index, label2index, padding_len=300):\n",
    "    with open(filename, 'r', encoding='utf-8') as f:\n",
    "        training_data = []\n",
    "        for line in f:\n",
    "            label, sentence = line.strip().split('\\t')\n",
    "            words = jieba.cut(sentence)\n",
    "            sentence_word_index = [word2index[word] for word in words if word in word2index]\n",
    "            label = [label2index[label]]\n",
    "            training_data.append((sentence_word_index, label)) # 将特征和标签放一起读取 然后随机打乱\n",
    "\n",
    "    np.random.shuffle(training_data)\n",
    "\n",
    "    X = []\n",
    "    y = []\n",
    "    for feas, label in training_data:\n",
    "        X.append(feas)\n",
    "        y.append(label)\n",
    "\n",
    "    # 相当于将词汇统一为300，多出的删除，少的补上0\n",
    "    X = sequence.pad_sequences(X, maxlen=padding_len, padding='post', truncating='post')\n",
    "    y = utils.to_categorical(y, num_classes=10)   # onehot\n",
    "    \n",
    "    X = np.array(X)  # 注意这里不是onehot\n",
    "    y = np.array(y)\n",
    "    return X, y\n",
    "\n",
    "def split_train_test(X, y, train_ratio=0.9):\n",
    "    n_split = int(len(X)*0.9)\n",
    "    X_train = X[:n_split]\n",
    "    X_test = X[n_split:]\n",
    "    y_train = y[:n_split]\n",
    "    y_test = y[n_split:]\n",
    "    return X_train, X_test, y_train, y_test\n",
    "\n",
    "# model\n",
    "def fasttext(vocab_size, embedding_dim, label_num):\n",
    "    model = Sequential() \n",
    "    model.add(Embedding(vocab_size, embedding_dim, input_length=300))\n",
    "    model.add(GlobalAveragePooling1D())\n",
    "    # model.add(Dense(label_num*5))  # 如果加上这一层，效果不好\n",
    "    model.add(Dense(label_num))\n",
    "    model.add(Activation(activation='sigmoid'))\n",
    "    model.compile(optimizer='adam',loss='categorical_crossentropy',metrics=['accuracy'])\n",
    "    model.summary()\n",
    "    return model\n",
    "\n",
    "\n",
    "def plot(history):\n",
    "    plt.subplot(211)\n",
    "    plt.title(\"accuracy\")\n",
    "    plt.plot(history.history[\"acc\"], color=\"r\", label=\"train\")\n",
    "    plt.plot(history.history[\"val_acc\"], color=\"b\", label=\"validation\")\n",
    "    plt.legend(loc=\"best\")\n",
    "\n",
    "    plt.subplot(212)\n",
    "    plt.title(\"loss\")\n",
    "    plt.plot(history.history[\"loss\"], color=\"r\", label=\"train\")\n",
    "    plt.plot(history.history[\"val_loss\"], color=\"b\", label=\"validation\")\n",
    "    plt.legend(loc=\"best\")\n",
    "    plt.tight_layout()\n",
    "    plt.show()"
   ]
  },
  {
   "cell_type": "markdown",
   "metadata": {},
   "source": [
    "## 数据集准备"
   ]
  },
  {
   "cell_type": "code",
   "execution_count": 4,
   "metadata": {},
   "outputs": [],
   "source": [
    "filename = './data/cnews_train.txt'\n",
    "min_num = 10    # 最小词频\n",
    "padding_len = 300"
   ]
  },
  {
   "cell_type": "code",
   "execution_count": 5,
   "metadata": {},
   "outputs": [
    {
     "name": "stderr",
     "output_type": "stream",
     "text": [
      "Building prefix dict from the default dictionary ...\n",
      "Loading model from cache /tmp/jieba.cache\n",
      "Loading model cost 1.012 seconds.\n",
      "Prefix dict has been built succesfully.\n"
     ]
    }
   ],
   "source": [
    "word_freq_dic, label_set = get_word_frec_dic(filename)\n",
    "word_freq_filter_dic = filter_word_frec_dic(word_freq_dic, min_num)\n",
    "word2index, label2index = get_word_label_2index(word_freq_filter_dic, label_set)\n",
    "# 读取训练数据集 返回可以直接入模型的特征和标签\n",
    "X, y = create_train_data(filename, word2index, label2index, padding_len=padding_len)\n",
    "X_train, X_test, y_train, y_test = split_train_test(X, y, train_ratio=0.9)"
   ]
  },
  {
   "cell_type": "code",
   "execution_count": 6,
   "metadata": {},
   "outputs": [
    {
     "name": "stdout",
     "output_type": "stream",
     "text": [
      "(4500, 300)\n",
      "(4500, 10)\n",
      "(500, 300)\n",
      "(500, 10)\n",
      "18651\n"
     ]
    }
   ],
   "source": [
    "print(X_train.shape)\n",
    "print(y_train.shape)\n",
    "print(X_test.shape)\n",
    "print(y_test.shape)\n",
    "print(len(word2index))"
   ]
  },
  {
   "cell_type": "markdown",
   "metadata": {},
   "source": [
    "## 模型训练"
   ]
  },
  {
   "cell_type": "code",
   "execution_count": 7,
   "metadata": {},
   "outputs": [],
   "source": [
    "vocab_size = len(word2index)    \n",
    "label_num = len(label2index)\n",
    "embedding_dim = 200\n",
    "batch_size = 128\n",
    "epochs = 40"
   ]
  },
  {
   "cell_type": "code",
   "execution_count": 8,
   "metadata": {},
   "outputs": [
    {
     "name": "stdout",
     "output_type": "stream",
     "text": [
      "_________________________________________________________________\n",
      "Layer (type)                 Output Shape              Param #   \n",
      "=================================================================\n",
      "embedding_1 (Embedding)      (None, 300, 200)          3730200   \n",
      "_________________________________________________________________\n",
      "global_average_pooling1d_1 ( (None, 200)               0         \n",
      "_________________________________________________________________\n",
      "dense_1 (Dense)              (None, 10)                2010      \n",
      "_________________________________________________________________\n",
      "activation_1 (Activation)    (None, 10)                0         \n",
      "=================================================================\n",
      "Total params: 3,732,210\n",
      "Trainable params: 3,732,210\n",
      "Non-trainable params: 0\n",
      "_________________________________________________________________\n"
     ]
    }
   ],
   "source": [
    "model = fasttext(vocab_size, embedding_dim, label_num)"
   ]
  },
  {
   "cell_type": "code",
   "execution_count": 9,
   "metadata": {},
   "outputs": [],
   "source": [
    "# 通过fit的callbacks参数将回调函数传入模型中，这个参数接收一个回调函数列表，你可以传入任意个回调函数\n",
    "callback_lists = [\n",
    "    keras.callbacks.EarlyStopping(monitor = 'acc',  # 监控模型的验证精度\n",
    "                                  patience = 10,),   # 如果精度在多于10轮的时间（即两轮）内不再改善，就中断训练\n",
    "    # ModelCheckpoint用于在每轮过后保存当前权重\n",
    "    keras.callbacks.ModelCheckpoint(filepath = 'fasttext_news_cf.model', # 目标文件的保存路径\n",
    "                                    # 这两个参数的意思是，如果val_loss没有改善，那么不需要覆盖模型文件，\n",
    "                                    # 这就可以始终保存在训练过程中见到的最佳模型\n",
    "                                    monitor = 'val_loss', save_best_only = True,)\n",
    "]"
   ]
  },
  {
   "cell_type": "code",
   "execution_count": 10,
   "metadata": {},
   "outputs": [
    {
     "name": "stdout",
     "output_type": "stream",
     "text": [
      "Train on 3150 samples, validate on 1350 samples\n",
      "Epoch 1/40\n",
      "3150/3150 [==============================] - 1s 320us/step - loss: 2.2864 - acc: 0.4083 - val_loss: 2.2649 - val_acc: 0.5896\n",
      "Epoch 2/40\n",
      "3150/3150 [==============================] - 0s 90us/step - loss: 2.2388 - acc: 0.5952 - val_loss: 2.2120 - val_acc: 0.5867\n",
      "Epoch 3/40\n",
      "3150/3150 [==============================] - 0s 92us/step - loss: 2.1745 - acc: 0.6054 - val_loss: 2.1432 - val_acc: 0.5785\n",
      "Epoch 4/40\n",
      "3150/3150 [==============================] - 0s 95us/step - loss: 2.0993 - acc: 0.6073 - val_loss: 2.0702 - val_acc: 0.5844\n",
      "Epoch 5/40\n",
      "3150/3150 [==============================] - 0s 92us/step - loss: 2.0225 - acc: 0.6305 - val_loss: 1.9984 - val_acc: 0.6067\n",
      "Epoch 6/40\n",
      "3150/3150 [==============================] - 0s 95us/step - loss: 1.9430 - acc: 0.6625 - val_loss: 1.9209 - val_acc: 0.6430\n",
      "Epoch 7/40\n",
      "3150/3150 [==============================] - 0s 94us/step - loss: 1.8497 - acc: 0.6959 - val_loss: 1.8235 - val_acc: 0.6711\n",
      "Epoch 8/40\n",
      "3150/3150 [==============================] - 0s 92us/step - loss: 1.7267 - acc: 0.7346 - val_loss: 1.6901 - val_acc: 0.7022\n",
      "Epoch 9/40\n",
      "3150/3150 [==============================] - 0s 94us/step - loss: 1.5545 - acc: 0.7708 - val_loss: 1.4988 - val_acc: 0.7474\n",
      "Epoch 10/40\n",
      "3150/3150 [==============================] - 0s 95us/step - loss: 1.3195 - acc: 0.8133 - val_loss: 1.2647 - val_acc: 0.7904\n",
      "Epoch 11/40\n",
      "3150/3150 [==============================] - 0s 93us/step - loss: 1.0692 - acc: 0.8517 - val_loss: 1.0569 - val_acc: 0.8141\n",
      "Epoch 12/40\n",
      "3150/3150 [==============================] - 0s 93us/step - loss: 0.8669 - acc: 0.8724 - val_loss: 0.9042 - val_acc: 0.8333\n",
      "Epoch 13/40\n",
      "3150/3150 [==============================] - 0s 96us/step - loss: 0.7191 - acc: 0.8883 - val_loss: 0.7921 - val_acc: 0.8504\n",
      "Epoch 14/40\n",
      "3150/3150 [==============================] - 0s 94us/step - loss: 0.6100 - acc: 0.8984 - val_loss: 0.7091 - val_acc: 0.8593\n",
      "Epoch 15/40\n",
      "3150/3150 [==============================] - 0s 95us/step - loss: 0.5273 - acc: 0.9073 - val_loss: 0.6457 - val_acc: 0.8659\n",
      "Epoch 16/40\n",
      "3150/3150 [==============================] - 0s 94us/step - loss: 0.4627 - acc: 0.9178 - val_loss: 0.5948 - val_acc: 0.8741\n",
      "Epoch 17/40\n",
      "3150/3150 [==============================] - 0s 95us/step - loss: 0.4114 - acc: 0.9267 - val_loss: 0.5527 - val_acc: 0.8807\n",
      "Epoch 18/40\n",
      "3150/3150 [==============================] - 0s 95us/step - loss: 0.3682 - acc: 0.9365 - val_loss: 0.5193 - val_acc: 0.8837\n",
      "Epoch 19/40\n",
      "3150/3150 [==============================] - 0s 94us/step - loss: 0.3325 - acc: 0.9460 - val_loss: 0.4902 - val_acc: 0.8919\n",
      "Epoch 20/40\n",
      "3150/3150 [==============================] - 0s 93us/step - loss: 0.3013 - acc: 0.9505 - val_loss: 0.4653 - val_acc: 0.8978\n",
      "Epoch 21/40\n",
      "3150/3150 [==============================] - 0s 95us/step - loss: 0.2743 - acc: 0.9584 - val_loss: 0.4430 - val_acc: 0.9044\n",
      "Epoch 22/40\n",
      "3150/3150 [==============================] - 0s 95us/step - loss: 0.2511 - acc: 0.9629 - val_loss: 0.4241 - val_acc: 0.9096\n",
      "Epoch 23/40\n",
      "3150/3150 [==============================] - 0s 95us/step - loss: 0.2305 - acc: 0.9673 - val_loss: 0.4077 - val_acc: 0.9089\n",
      "Epoch 24/40\n",
      "3150/3150 [==============================] - 0s 94us/step - loss: 0.2123 - acc: 0.9737 - val_loss: 0.3935 - val_acc: 0.9126\n",
      "Epoch 25/40\n",
      "3150/3150 [==============================] - 0s 90us/step - loss: 0.1960 - acc: 0.9743 - val_loss: 0.3795 - val_acc: 0.9104\n",
      "Epoch 26/40\n",
      "3150/3150 [==============================] - 0s 94us/step - loss: 0.1818 - acc: 0.9765 - val_loss: 0.3681 - val_acc: 0.9126\n",
      "Epoch 27/40\n",
      "3150/3150 [==============================] - 0s 93us/step - loss: 0.1694 - acc: 0.9794 - val_loss: 0.3569 - val_acc: 0.9148\n",
      "Epoch 28/40\n",
      "3150/3150 [==============================] - 0s 95us/step - loss: 0.1581 - acc: 0.9794 - val_loss: 0.3466 - val_acc: 0.9207\n",
      "Epoch 29/40\n",
      "3150/3150 [==============================] - 0s 94us/step - loss: 0.1470 - acc: 0.9822 - val_loss: 0.3378 - val_acc: 0.9200\n",
      "Epoch 30/40\n",
      "3150/3150 [==============================] - 0s 94us/step - loss: 0.1376 - acc: 0.9829 - val_loss: 0.3298 - val_acc: 0.9193\n",
      "Epoch 31/40\n",
      "3150/3150 [==============================] - 0s 94us/step - loss: 0.1291 - acc: 0.9841 - val_loss: 0.3221 - val_acc: 0.9259\n",
      "Epoch 32/40\n",
      "3150/3150 [==============================] - 0s 93us/step - loss: 0.1212 - acc: 0.9848 - val_loss: 0.3156 - val_acc: 0.9207\n",
      "Epoch 33/40\n",
      "3150/3150 [==============================] - 0s 97us/step - loss: 0.1140 - acc: 0.9867 - val_loss: 0.3090 - val_acc: 0.9237\n",
      "Epoch 34/40\n",
      "3150/3150 [==============================] - 0s 95us/step - loss: 0.1076 - acc: 0.9854 - val_loss: 0.3027 - val_acc: 0.9281\n",
      "Epoch 35/40\n",
      "3150/3150 [==============================] - 0s 94us/step - loss: 0.1019 - acc: 0.9898 - val_loss: 0.2982 - val_acc: 0.9215\n",
      "Epoch 36/40\n",
      "3150/3150 [==============================] - 0s 96us/step - loss: 0.0960 - acc: 0.9863 - val_loss: 0.2927 - val_acc: 0.9296\n",
      "Epoch 37/40\n",
      "3150/3150 [==============================] - 0s 96us/step - loss: 0.0909 - acc: 0.9914 - val_loss: 0.2882 - val_acc: 0.9281\n",
      "Epoch 38/40\n",
      "3150/3150 [==============================] - 0s 95us/step - loss: 0.0863 - acc: 0.9917 - val_loss: 0.2841 - val_acc: 0.9259\n",
      "Epoch 39/40\n",
      "3150/3150 [==============================] - 0s 95us/step - loss: 0.0817 - acc: 0.9905 - val_loss: 0.2796 - val_acc: 0.9333\n",
      "Epoch 40/40\n",
      "3150/3150 [==============================] - 0s 94us/step - loss: 0.0781 - acc: 0.9940 - val_loss: 0.2760 - val_acc: 0.9326\n"
     ]
    }
   ],
   "source": [
    "history = model.fit(X_train, y_train, batch_size=batch_size, epochs=epochs, \n",
    "                    validation_split=0.3, callbacks=callback_lists)"
   ]
  },
  {
   "cell_type": "code",
   "execution_count": 11,
   "metadata": {},
   "outputs": [
    {
     "data": {
      "image/png": "[encoded data removed]",
      "text/plain": [
       "<Figure size 432x288 with 2 Axes>"
      ]
     },
     "metadata": {
      "needs_background": "light"
     },
     "output_type": "display_data"
    }
   ],
   "source": [
    "plot(history)"
   ]
  },
  {
   "cell_type": "markdown",
   "metadata": {},
   "source": [
    "## 模型评测"
   ]
  },
  {
   "cell_type": "code",
   "execution_count": 12,
   "metadata": {},
   "outputs": [],
   "source": [
    "from keras.models import load_model"
   ]
  },
  {
   "cell_type": "code",
   "execution_count": 13,
   "metadata": {},
   "outputs": [
    {
     "name": "stdout",
     "output_type": "stream",
     "text": [
      "500/500 [==============================] - 0s 164us/step\n",
      "[0.30001683753728864, 0.932]\n"
     ]
    }
   ],
   "source": [
    "model = load_model('fasttext_news_cf.model')\n",
    "score = model.evaluate(X_test, y_test)   # 在测试模式下返回模型的误差值和评估标准值。\n",
    "print(score)"
   ]
  },
  {
   "cell_type": "markdown",
   "metadata": {},
   "source": [
    "## 一些测试"
   ]
  },
  {
   "cell_type": "code",
   "execution_count": 14,
   "metadata": {},
   "outputs": [
    {
     "data": {
      "text/plain": [
       "array([[1, 2, 3, 3, 3, 2, 8, 8, 8, 8],\n",
       "       [4, 5, 5, 0, 0, 0, 0, 0, 0, 0]], dtype=int32)"
      ]
     },
     "execution_count": 14,
     "metadata": {},
     "output_type": "execute_result"
    }
   ],
   "source": [
    "sequence.pad_sequences([[1,2,3,3,3,2,8,8,8,8,8,8,77,8,8],[4,5,5]], maxlen=10, padding='post', truncating='post')"
   ]
  },
  {
   "cell_type": "code",
   "execution_count": 15,
   "metadata": {},
   "outputs": [
    {
     "data": {
      "text/plain": [
       "array([[1., 0., 0., 0., 0., 0., 0., 0., 0., 0.],\n",
       "       [0., 1., 0., 0., 0., 0., 0., 0., 0., 0.],\n",
       "       [0., 0., 1., 0., 0., 0., 0., 0., 0., 0.],\n",
       "       [0., 0., 0., 1., 0., 0., 0., 0., 0., 0.],\n",
       "       [0., 0., 0., 0., 1., 0., 0., 0., 0., 0.],\n",
       "       [0., 0., 0., 0., 0., 1., 0., 0., 0., 0.],\n",
       "       [0., 0., 0., 0., 0., 0., 1., 0., 0., 0.],\n",
       "       [0., 0., 0., 0., 0., 0., 0., 1., 0., 0.],\n",
       "       [0., 0., 0., 0., 0., 0., 0., 0., 1., 0.],\n",
       "       [0., 0., 0., 0., 0., 0., 0., 0., 0., 1.]], dtype=float32)"
      ]
     },
     "execution_count": 15,
     "metadata": {},
     "output_type": "execute_result"
    }
   ],
   "source": [
    "utils.to_categorical(range(10), num_classes=10)"
   ]
  },
  {
   "cell_type": "code",
   "execution_count": 14,
   "metadata": {},
   "outputs": [],
   "source": [
    "# Embedding 层\n",
    "# padding_len\n",
    "# input_length  这两个是否相等？\n",
    "# https://blog.csdn.net/u010417185/article/details/79533539\n",
    "# batch_size /epochs对神经网络的影响"
   ]
  },
  {
   "cell_type": "code",
   "execution_count": null,
   "metadata": {},
   "outputs": [],
   "source": []
  }
 ],
 "metadata": {
  "kernelspec": {
   "display_name": "Python 3",
   "language": "python",
   "name": "python3"
  },
  "language_info": {
   "codemirror_mode": {
    "name": "ipython",
    "version": 3
   },
   "file_extension": ".py",
   "mimetype": "text/x-python",
   "name": "python",
   "nbconvert_exporter": "python",
   "pygments_lexer": "ipython3",
   "version": "3.6.8"
  }
 },
 "nbformat": 4,
 "nbformat_minor": 2
}
