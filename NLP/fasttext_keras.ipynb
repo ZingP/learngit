{
 "cells": [
  {
   "cell_type": "code",
   "execution_count": 6,
   "metadata": {},
   "outputs": [],
   "source": [
    "import numpy as np\n",
    "import tensorflow as tf\n",
    "import jieba\n",
    "import keras\n",
    "from keras import utils\n",
    "from keras.preprocessing import sequence\n",
    "from keras.backend.tensorflow_backend import set_session\n",
    "from keras.layers import Embedding,Dense,GlobalAveragePooling1D,Input,Activation\n",
    "from keras.models import Model,Sequential\n",
    "import matplotlib.pyplot as plt\n"
   ]
  },
  {
   "cell_type": "code",
   "execution_count": 7,
   "metadata": {},
   "outputs": [],
   "source": [
    "config = tf.ConfigProto()\n",
    "config.gpu_options.per_process_gpu_memory_fraction = 0.8  # 比例\n",
    "config.gpu_options.allow_growth = True    # 按需\n",
    "set_session(tf.Session(config=config))"
   ]
  },
  {
   "cell_type": "code",
   "execution_count": 8,
   "metadata": {},
   "outputs": [],
   "source": [
    "def get_label_sentence(filename):\n",
    "    \"\"\"\n",
    "    input file content:\n",
    "    体育 sentence_1\n",
    "    ...\n",
    "    娱乐 sentence_n\n",
    "    \n",
    "    output dict:\n",
    "    {\n",
    "    \"体育\": [sentence_1, sentence_2, ..., sentence_n],\n",
    "    \"娱乐\":[...],\n",
    "    ...\n",
    "    }\n",
    "    \"\"\"\n",
    "    label_sentence_dic = {}    # 定义一个标签：样本的字典\n",
    "    with open(filename, 'r', encoding='utf-8') as f:\n",
    "        for line in f:\n",
    "            label, sentence = line.strip().split('\\t')\n",
    "            if label not in label_sentence_dic:\n",
    "                label_sentence_dic[label] = [sentence]\n",
    "            else:\n",
    "                label_sentence_dic[label].append([sentence])\n",
    "    return label_sentence_dic\n",
    "        \n",
    "# 根据label_sentence_dic 划分训练集和测试集，可以不用在这里分\n",
    "def save2file(label_sentences_dict, train_ratio, training_file, testing_file):\n",
    "    data_out_training = open(training_file,'w',encoding='utf8')\n",
    "    data_out_testing = open(testing_file,'w',encoding='utf8')\n",
    "    for label in label_sentences_dict:\n",
    "        sentences = label_sentences_dict[label]\n",
    "        np.random.shuffle(sentences)\n",
    "        for i in range(0,len(sentences)):\n",
    "            if i < int(train_ratio*len(sentences)):\n",
    "                data_out_training.write(label+':'+sentences[i]+'\\n')\n",
    "            else:\n",
    "                data_out_testing.write(label+':'+sentences[i]+'\\n')\n",
    "    data_out_training.close()\n",
    "    data_out_testing.close()\n",
    "\n",
    "def filter_word_frec_dic(word_frec_dic, min_num):\n",
    "    word_frec_dic_new = {}\n",
    "    for word, num in word_frec_dic.items():\n",
    "        if num >= min_num:\n",
    "            word_frec_dic_new[word] = num\n",
    "    return word_frec_dic_new\n",
    "    \n",
    "# 获得词频字典\n",
    "def get_word_frec_dic(filename):\n",
    "    label_set = set()\n",
    "    # 统计文档词频\n",
    "    word_freq_dic = {}\n",
    "    special_symbol = ['', '\\t', ',', ':', ';', '。']\n",
    "    with open(filename, 'r', encoding='utf-8') as f:\n",
    "        for line in f:\n",
    "            label, sentence = line.strip().split('\\t')\n",
    "            if len(label) != 0:\n",
    "                label_set.add(label) \n",
    "            word_list = jieba.cut(sentence)   # 生成器\n",
    "            for word in word_list:\n",
    "                word = word.strip()\n",
    "                if word in special_symbol:  # 过滤特殊符号\n",
    "                    continue\n",
    "                if word not in word_freq_dic:\n",
    "                    word_freq_dic[word] = 1\n",
    "                else:\n",
    "                    word_freq_dic[word] += 1\n",
    "    return word_freq_dic, label_set\n",
    "\n",
    "# 不需要考虑顺序，为Word、label建立索引\n",
    "def get_word_label_2index(word_frec_dic, label_set):\n",
    "    \"\"\"\n",
    "    input:\n",
    "        word_frac_dic: {\"word1\":123, \"word2\":345, ...}\n",
    "        label_set: {\"体育\", \"娱乐\", ...}\n",
    "    \n",
    "    output:\n",
    "        word2index: {\"word1\":0, \"word2\":1, ...}\n",
    "        label2index: {\"体育\":0, \"娱乐\":1, ...}\n",
    "    \"\"\"\n",
    "    word2index = {}\n",
    "    lenth = len(word_frec_dic)\n",
    "    for i, word in zip(range(lenth), word_frec_dic):\n",
    "        word2index[word] = i\n",
    "\n",
    "    label2index = {}\n",
    "    for i, label in zip(range(len(label_set)), label_set):\n",
    "        label2index[label] = i\n",
    "    return word2index, label2index\n",
    "\n",
    "\n",
    "def create_trainingdata(filename, word2index, label2index, padding_len=300):\n",
    "    with open(filename, 'r', encoding='utf-8') as f:\n",
    "        training_data = []\n",
    "        for line in f:\n",
    "            label, sentence = line.strip().split('\\t')\n",
    "            words = jieba.cut(sentence)\n",
    "            sentence_word_index = [word2index[word] for word in words if word in word2index]\n",
    "            label = [label2index[label]]\n",
    "            training_data.append((sentence_word_index, label)) # 将特征和标签放一起读取 然后随机打乱\n",
    "\n",
    "    np.random.shuffle(training_data)\n",
    "\n",
    "    X_train = []\n",
    "    y_train = []\n",
    "    for feas, label in training_data:\n",
    "        X_train.append(feas)\n",
    "        y_train.append(label)\n",
    "\n",
    "    # 相当于将词汇统一为300，多出的删除，少的补上0\n",
    "    X_train = sequence.pad_sequences(X_train, maxlen=padding_len, padding='post', truncating='post')\n",
    "    y_train = utils.to_categorical(y_train, num_classes=10)   # onehot\n",
    "    \n",
    "    X_train = np.array(X_train)  # 注意这里不是onehot\n",
    "    y_train = np.array(y_train)\n",
    "    return X_train, y_train\n",
    "\n",
    "# model\n",
    "def fasttext(vocab_size, embedding_dim, label_num):\n",
    "    model = Sequential() \n",
    "    model.add(Embedding(vocab_size, embedding_dim, input_length=300))\n",
    "    model.add(GlobalAveragePooling1D())\n",
    "    # model.add(Dense(label_num*5))  # 如果加上这一层，效果不好\n",
    "    model.add(Dense(label_num))\n",
    "    model.add(Activation(activation='sigmoid'))\n",
    "    model.compile(optimizer='adam',loss='categorical_crossentropy',metrics=['accuracy'])\n",
    "    model.summary()\n",
    "    return model\n",
    "\n",
    "\n",
    "def save2file(word2index, filename):\n",
    "    data_out = open(filename, 'w', encoding='utf8')\n",
    "    for word, index in word2index.items():\n",
    "        data_out.write(word + ':'+str(index) + '\\n')\n",
    "    data_out.close()\n",
    "\n",
    "\"\"\"   \n",
    "def train(filename, min_num=10, embedding_dim=300,batch_size=256, epochs=30):\n",
    "    \n",
    "    word_freq_dic, label_set = get_word_frec_dic(filename)\n",
    "    word_freq_filter_dic = filter_word_frec_dic(word_freq_dic, min_num)\n",
    "    word2index, label2index = get_word_label_2index(word_freq_filter_dic, label_set)\n",
    "    \n",
    "    # 此处需要把word2index和label2index存成文本\n",
    "    # save2file(word2index,'./data/word2index.txt')\n",
    "    # save2file(label2index,'./data/label2index.txt')\n",
    "\n",
    "    # 读取训练数据集 返回可以直接入模型的特征和标签\n",
    "    X_train, y_train = create_trainingdata(filename, word2index, label2index, padding_len=300)\n",
    "    print('X_train[0] is: ', X_train[0])\n",
    "    print('y_train.shape is: ', y_train.shape)\n",
    "\n",
    "    vocab_size = len(word2index)    \n",
    "    model = fasttext(vocab_size, embedding_dim, len(label2index))\n",
    "    # # 通过fit的callbacks参数将回调函数传入模型中，这个参数接收一个回调函数列表，你可以传入任意个回调函数\n",
    "    # callback_lists = [\n",
    "    #     keras.callbacks.EarlyStopping(monitor = 'acc',  # 监控模型的验证精度\n",
    "    #                                   patience = 1,),   # 如果精度在多于一轮的时间（即两轮）内不再改善，就中断训练\n",
    "    #     # ModelCheckpoint用于在每轮过后保存当前权重\n",
    "    #     keras.callbacks.ModelCheckpoint(filepath = 'news_classfication_textcnn.h5', # 目标文件的保存路径\n",
    "    #                                     # 这两个参数的意思是，如果val_loss没有改善，那么不需要覆盖模型文件，\n",
    "    #                                     # 这就可以始终保存在训练过程中见到的最佳模型\n",
    "    #                                     monitor = 'val_loss', save_best_only = True,)\n",
    "    # ]\n",
    "    # history = model.fit(training_feas,training_labels,batch_size=256,epochs=30,validation_split=0.3,callbacks=callback_lists)\n",
    "    history = model.fit(X_train, y_train, batch_size=batch_size, epochs=epochs, validation_split=0.3)\n",
    "    model.save('fasttext_news_cf.model')\n",
    "    plot(history)\n",
    " \"\"\"   \n",
    "\n",
    "def plot(history):\n",
    "    plt.subplot(211)\n",
    "    plt.title(\"accuracy\")\n",
    "    plt.plot(history.history[\"acc\"], color=\"r\", label=\"train\")\n",
    "    plt.plot(history.history[\"val_acc\"], color=\"b\", label=\"validation\")\n",
    "    plt.legend(loc=\"best\")\n",
    "\n",
    "    plt.subplot(212)\n",
    "    plt.title(\"loss\")\n",
    "    plt.plot(history.history[\"loss\"], color=\"r\", label=\"train\")\n",
    "    plt.plot(history.history[\"val_loss\"], color=\"b\", label=\"validation\")\n",
    "    plt.legend(loc=\"best\")\n",
    "    plt.tight_layout()\n",
    "    plt.show()\n"
   ]
  },
  {
   "cell_type": "code",
   "execution_count": 9,
   "metadata": {},
   "outputs": [],
   "source": [
    "filename = './data/cnews_train.txt'\n",
    "min_num = 10    # 最小词频\n",
    "embedding_dim = 200\n",
    "batch_size = 256\n",
    "epochs = 30"
   ]
  },
  {
   "cell_type": "code",
   "execution_count": 10,
   "metadata": {},
   "outputs": [],
   "source": [
    "word_freq_dic, label_set = get_word_frec_dic(filename)\n",
    "word_freq_filter_dic = filter_word_frec_dic(word_freq_dic, min_num)\n",
    "word2index, label2index = get_word_label_2index(word_freq_filter_dic, label_set)\n",
    "# 读取训练数据集 返回可以直接入模型的特征和标签\n",
    "X_train, y_train = create_trainingdata(filename, word2index, label2index, padding_len=300)"
   ]
  },
  {
   "cell_type": "code",
   "execution_count": 11,
   "metadata": {},
   "outputs": [],
   "source": [
    "vocab_size = len(word2index)    \n",
    "label_num = len(label2index)"
   ]
  },
  {
   "cell_type": "code",
   "execution_count": 12,
   "metadata": {},
   "outputs": [
    {
     "name": "stdout",
     "output_type": "stream",
     "text": [
      "_________________________________________________________________\n",
      "Layer (type)                 Output Shape              Param #   \n",
      "=================================================================\n",
      "embedding_2 (Embedding)      (None, 300, 200)          3730200   \n",
      "_________________________________________________________________\n",
      "global_average_pooling1d_2 ( (None, 200)               0         \n",
      "_________________________________________________________________\n",
      "dense_2 (Dense)              (None, 10)                2010      \n",
      "_________________________________________________________________\n",
      "activation_2 (Activation)    (None, 10)                0         \n",
      "=================================================================\n",
      "Total params: 3,732,210\n",
      "Trainable params: 3,732,210\n",
      "Non-trainable params: 0\n",
      "_________________________________________________________________\n"
     ]
    }
   ],
   "source": [
    "model = fasttext(vocab_size, embedding_dim, label_num)"
   ]
  },
  {
   "cell_type": "code",
   "execution_count": 15,
   "metadata": {},
   "outputs": [
    {
     "name": "stdout",
     "output_type": "stream",
     "text": [
      "(5000, 300)\n",
      "(5000, 10)\n",
      "18651\n"
     ]
    }
   ],
   "source": [
    "print(X_train.shape)\n",
    "print(y_train.shape)\n",
    "print(len(word2index))"
   ]
  },
  {
   "cell_type": "code",
   "execution_count": 20,
   "metadata": {},
   "outputs": [],
   "source": [
    "# Embedding(vocab_size, embedding_dim, input_length=300)"
   ]
  },
  {
   "cell_type": "code",
   "execution_count": 21,
   "metadata": {},
   "outputs": [],
   "source": [
    "# model.get_layer(index=0).output"
   ]
  },
  {
   "cell_type": "code",
   "execution_count": 25,
   "metadata": {},
   "outputs": [],
   "source": [
    "# 通过fit的callbacks参数将回调函数传入模型中，这个参数接收一个回调函数列表，你可以传入任意个回调函数\n",
    "callback_lists = [\n",
    "    keras.callbacks.EarlyStopping(monitor = 'acc',  # 监控模型的验证精度\n",
    "                                  patience = 5,),   # 如果精度在多于一轮的时间（即两轮）内不再改善，就中断训练\n",
    "    # ModelCheckpoint用于在每轮过后保存当前权重\n",
    "    keras.callbacks.ModelCheckpoint(filepath = 'fasttext_news_cf.model', # 目标文件的保存路径\n",
    "                                    # 这两个参数的意思是，如果val_loss没有改善，那么不需要覆盖模型文件，\n",
    "                                    # 这就可以始终保存在训练过程中见到的最佳模型\n",
    "                                    monitor = 'val_loss', save_best_only = True,)\n",
    "]"
   ]
  },
  {
   "cell_type": "code",
   "execution_count": 26,
   "metadata": {},
   "outputs": [
    {
     "name": "stdout",
     "output_type": "stream",
     "text": [
      "Train on 3500 samples, validate on 1500 samples\n",
      "Epoch 1/30\n",
      "3500/3500 [==============================] - 0s 61us/step - loss: 2.1018 - acc: 0.6326 - val_loss: 2.0969 - val_acc: 0.6140\n",
      "Epoch 2/30\n",
      "3500/3500 [==============================] - 0s 60us/step - loss: 2.0507 - acc: 0.6409 - val_loss: 2.0508 - val_acc: 0.6207\n",
      "Epoch 3/30\n",
      "3500/3500 [==============================] - 0s 60us/step - loss: 1.9994 - acc: 0.6583 - val_loss: 2.0045 - val_acc: 0.6320\n",
      "Epoch 4/30\n",
      "3500/3500 [==============================] - 0s 60us/step - loss: 1.9465 - acc: 0.6740 - val_loss: 1.9562 - val_acc: 0.6520\n",
      "Epoch 5/30\n",
      "3500/3500 [==============================] - 0s 59us/step - loss: 1.8902 - acc: 0.6894 - val_loss: 1.9030 - val_acc: 0.6673\n",
      "Epoch 6/30\n",
      "3500/3500 [==============================] - 0s 60us/step - loss: 1.8270 - acc: 0.7063 - val_loss: 1.8412 - val_acc: 0.6793\n",
      "Epoch 7/30\n",
      "3500/3500 [==============================] - 0s 60us/step - loss: 1.7531 - acc: 0.7260 - val_loss: 1.7670 - val_acc: 0.6940\n",
      "Epoch 8/30\n",
      "3500/3500 [==============================] - 0s 60us/step - loss: 1.6635 - acc: 0.7466 - val_loss: 1.6748 - val_acc: 0.7140\n",
      "Epoch 9/30\n",
      "3500/3500 [==============================] - 0s 60us/step - loss: 1.5524 - acc: 0.7694 - val_loss: 1.5603 - val_acc: 0.7340\n",
      "Epoch 10/30\n",
      "3500/3500 [==============================] - 0s 60us/step - loss: 1.4177 - acc: 0.7946 - val_loss: 1.4235 - val_acc: 0.7647\n",
      "Epoch 11/30\n",
      "3500/3500 [==============================] - 0s 60us/step - loss: 1.2643 - acc: 0.8189 - val_loss: 1.2758 - val_acc: 0.7973\n",
      "Epoch 12/30\n",
      "3500/3500 [==============================] - 0s 59us/step - loss: 1.1105 - acc: 0.8380 - val_loss: 1.1377 - val_acc: 0.8127\n",
      "Epoch 13/30\n",
      "3500/3500 [==============================] - 0s 60us/step - loss: 0.9721 - acc: 0.8543 - val_loss: 1.0211 - val_acc: 0.8320\n",
      "Epoch 14/30\n",
      "3500/3500 [==============================] - 0s 60us/step - loss: 0.8550 - acc: 0.8669 - val_loss: 0.9215 - val_acc: 0.8473\n",
      "Epoch 15/30\n",
      "3500/3500 [==============================] - 0s 59us/step - loss: 0.7573 - acc: 0.8806 - val_loss: 0.8412 - val_acc: 0.8533\n",
      "Epoch 16/30\n",
      "3500/3500 [==============================] - 0s 60us/step - loss: 0.6772 - acc: 0.8903 - val_loss: 0.7727 - val_acc: 0.8593\n",
      "Epoch 17/30\n",
      "3500/3500 [==============================] - 0s 60us/step - loss: 0.6102 - acc: 0.8934 - val_loss: 0.7166 - val_acc: 0.8613\n",
      "Epoch 18/30\n",
      "3500/3500 [==============================] - 0s 61us/step - loss: 0.5534 - acc: 0.9097 - val_loss: 0.6694 - val_acc: 0.8720\n",
      "Epoch 19/30\n",
      "3500/3500 [==============================] - 0s 59us/step - loss: 0.5058 - acc: 0.9146 - val_loss: 0.6289 - val_acc: 0.8727\n",
      "Epoch 20/30\n",
      "3500/3500 [==============================] - 0s 59us/step - loss: 0.4649 - acc: 0.9191 - val_loss: 0.5948 - val_acc: 0.8767\n",
      "Epoch 21/30\n",
      "3500/3500 [==============================] - 0s 59us/step - loss: 0.4293 - acc: 0.9283 - val_loss: 0.5645 - val_acc: 0.8827\n",
      "Epoch 22/30\n",
      "3500/3500 [==============================] - 0s 58us/step - loss: 0.3976 - acc: 0.9311 - val_loss: 0.5381 - val_acc: 0.8873\n",
      "Epoch 23/30\n",
      "3500/3500 [==============================] - 0s 59us/step - loss: 0.3700 - acc: 0.9426 - val_loss: 0.5143 - val_acc: 0.8920\n",
      "Epoch 24/30\n",
      "3500/3500 [==============================] - 0s 60us/step - loss: 0.3449 - acc: 0.9460 - val_loss: 0.4939 - val_acc: 0.8933\n",
      "Epoch 25/30\n",
      "3500/3500 [==============================] - 0s 58us/step - loss: 0.3225 - acc: 0.9534 - val_loss: 0.4750 - val_acc: 0.8960\n",
      "Epoch 26/30\n",
      "3500/3500 [==============================] - 0s 60us/step - loss: 0.3021 - acc: 0.9546 - val_loss: 0.4583 - val_acc: 0.9000\n",
      "Epoch 27/30\n",
      "3500/3500 [==============================] - 0s 60us/step - loss: 0.2836 - acc: 0.9569 - val_loss: 0.4429 - val_acc: 0.9040\n",
      "Epoch 28/30\n",
      "3500/3500 [==============================] - 0s 59us/step - loss: 0.2670 - acc: 0.9629 - val_loss: 0.4286 - val_acc: 0.9093\n",
      "Epoch 29/30\n",
      "3500/3500 [==============================] - 0s 59us/step - loss: 0.2516 - acc: 0.9674 - val_loss: 0.4156 - val_acc: 0.9113\n",
      "Epoch 30/30\n",
      "3500/3500 [==============================] - 0s 57us/step - loss: 0.2379 - acc: 0.9657 - val_loss: 0.4041 - val_acc: 0.9113\n"
     ]
    }
   ],
   "source": [
    "history = model.fit(X_train, y_train, batch_size=batch_size, epochs=epochs, \n",
    "                    validation_split=0.3, callbacks=callback_lists)"
   ]
  },
  {
   "cell_type": "code",
   "execution_count": 27,
   "metadata": {},
   "outputs": [
    {
     "data": {
      "image/png": "[encoded data removed]",
      "text/plain": [
       "<Figure size 432x288 with 2 Axes>"
      ]
     },
     "metadata": {
      "needs_background": "light"
     },
     "output_type": "display_data"
    }
   ],
   "source": [
    "plot(history)"
   ]
  },
  {
   "cell_type": "code",
   "execution_count": 28,
   "metadata": {},
   "outputs": [],
   "source": [
    "test_file = './data/cnews_test.txt'\n",
    "X_test, y_test = create_trainingdata(test_file, word2index, label2index, padding_len=300)"
   ]
  },
  {
   "cell_type": "code",
   "execution_count": 30,
   "metadata": {},
   "outputs": [
    {
     "name": "stdout",
     "output_type": "stream",
     "text": [
      "4500/4500 [==============================] - 0s 76us/step\n",
      "[0.4003586342599657, 0.9082222221692403]\n"
     ]
    }
   ],
   "source": [
    "from keras.models import load_model\n",
    "model = load_model('fasttext_news_cf.model')\n",
    "score = model.evaluate(X_test, y_test)   # Returns the loss value & metrics values\n",
    "print(score)"
   ]
  },
  {
   "cell_type": "code",
   "execution_count": null,
   "metadata": {},
   "outputs": [],
   "source": []
  },
  {
   "cell_type": "code",
   "execution_count": 13,
   "metadata": {},
   "outputs": [],
   "source": [
    "label_sentence_dic, label_set = get_label_sentence(filename)"
   ]
  },
  {
   "cell_type": "code",
   "execution_count": 15,
   "metadata": {},
   "outputs": [
    {
     "data": {
      "text/plain": [
       "10"
      ]
     },
     "execution_count": 15,
     "metadata": {},
     "output_type": "execute_result"
    }
   ],
   "source": [
    "len(label_sentence_dic)"
   ]
  },
  {
   "cell_type": "code",
   "execution_count": 19,
   "metadata": {},
   "outputs": [
    {
     "name": "stdout",
     "output_type": "stream",
     "text": [
      "体育 500\n",
      "娱乐 500\n",
      "家居 500\n",
      "房产 500\n",
      "教育 500\n",
      "时尚 500\n",
      "时政 500\n",
      "游戏 500\n",
      "科技 500\n",
      "财经 500\n"
     ]
    }
   ],
   "source": [
    "for k in label_sentence_dic:\n",
    "    print(k, len(label_sentence_dic[k]))"
   ]
  },
  {
   "cell_type": "code",
   "execution_count": 30,
   "metadata": {},
   "outputs": [
    {
     "data": {
      "text/plain": [
       "array([[1, 2, 3, 3, 3, 2, 8, 8, 8, 8],\n",
       "       [4, 5, 5, 0, 0, 0, 0, 0, 0, 0]], dtype=int32)"
      ]
     },
     "execution_count": 30,
     "metadata": {},
     "output_type": "execute_result"
    }
   ],
   "source": [
    "sequence.pad_sequences([[1,2,3,3,3,2,8,8,8,8,8,8,77,8,8],[4,5,5]], maxlen=10, padding='post', truncating='post')"
   ]
  },
  {
   "cell_type": "code",
   "execution_count": 28,
   "metadata": {},
   "outputs": [
    {
     "data": {
      "text/plain": [
       "array([[1., 0., 0., 0., 0., 0., 0., 0., 0., 0.],\n",
       "       [0., 1., 0., 0., 0., 0., 0., 0., 0., 0.],\n",
       "       [0., 0., 1., 0., 0., 0., 0., 0., 0., 0.],\n",
       "       [0., 0., 0., 1., 0., 0., 0., 0., 0., 0.],\n",
       "       [0., 0., 0., 0., 1., 0., 0., 0., 0., 0.],\n",
       "       [0., 0., 0., 0., 0., 1., 0., 0., 0., 0.],\n",
       "       [0., 0., 0., 0., 0., 0., 1., 0., 0., 0.],\n",
       "       [0., 0., 0., 0., 0., 0., 0., 1., 0., 0.],\n",
       "       [0., 0., 0., 0., 0., 0., 0., 0., 1., 0.],\n",
       "       [0., 0., 0., 0., 0., 0., 0., 0., 0., 1.]], dtype=float32)"
      ]
     },
     "execution_count": 28,
     "metadata": {},
     "output_type": "execute_result"
    }
   ],
   "source": [
    "utils.to_categorical(range(10), num_classes=10)"
   ]
  },
  {
   "cell_type": "code",
   "execution_count": null,
   "metadata": {},
   "outputs": [],
   "source": [
    "# Embedding 层"
   ]
  }
 ],
 "metadata": {
  "kernelspec": {
   "display_name": "Python 3",
   "language": "python",
   "name": "python3"
  },
  "language_info": {
   "codemirror_mode": {
    "name": "ipython",
    "version": 3
   },
   "file_extension": ".py",
   "mimetype": "text/x-python",
   "name": "python",
   "nbconvert_exporter": "python",
   "pygments_lexer": "ipython3",
   "version": "3.6.8"
  }
 },
 "nbformat": 4,
 "nbformat_minor": 2
}
