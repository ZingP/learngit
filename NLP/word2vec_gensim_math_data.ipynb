{
 "cells": [
  {
   "cell_type": "code",
   "execution_count": 1,
   "metadata": {},
   "outputs": [],
   "source": [
    "import gensim\n",
    "import pandas as pd"
   ]
  },
  {
   "cell_type": "code",
   "execution_count": 2,
   "metadata": {},
   "outputs": [],
   "source": [
    "def read_data(filename):\n",
    "    sentence_list = []\n",
    "    with open(filename, 'r', encoding='utf-8') as f:\n",
    "        for line in f:\n",
    "            if len(line) == 0:\n",
    "                continue\n",
    "            _, content = line.strip().split('\\t')\n",
    "            sentence = content.split(':')\n",
    "            sentence_list.append(sentence)\n",
    "    return sentence_list"
   ]
  },
  {
   "cell_type": "code",
   "execution_count": 3,
   "metadata": {},
   "outputs": [],
   "source": [
    "sentence_list = read_data('./data/math-data.txt')"
   ]
  },
  {
   "cell_type": "code",
   "execution_count": 4,
   "metadata": {},
   "outputs": [
    {
     "name": "stdout",
     "output_type": "stream",
     "text": [
      "Start fit...\n",
      "end fit.\n"
     ]
    }
   ],
   "source": [
    "dim = 200  # 维数\n",
    "print(\"Start fit...\")\n",
    "# min_cout忽略总频率低于此值的所有单词\n",
    "model = gensim.models.Word2Vec(sentence_list, min_count=1, size=dim)\n",
    "print(\"end fit.\")"
   ]
  },
  {
   "cell_type": "code",
   "execution_count": 5,
   "metadata": {},
   "outputs": [],
   "source": [
    "model_path = './model/gensim_{}_{}.model'.format('math_data', '200')\n",
    "model.save(model_path)"
   ]
  },
  {
   "cell_type": "code",
   "execution_count": 6,
   "metadata": {},
   "outputs": [
    {
     "name": "stdout",
     "output_type": "stream",
     "text": [
      "和直线相近似的词有：\n",
      "0           (双曲线, 0.5296913385391235)\n",
      "1           (抛物线, 0.5288739800453186)\n",
      "2             (轴, 0.5141724348068237)\n",
      "3    (POINT_2DIM, 0.5086190700531006)\n",
      "4      (INTEVAL, 0.46326586604118347)\n",
      "5            (点, 0.46106579899787903)\n",
      "6         (2m-2, 0.45800334215164185)\n",
      "7           (坐标轴, 0.4512315094470978)\n",
      "8         (VARP, 0.44557005167007446)\n",
      "9    (110x+2100, 0.44367659091949463)\n",
      "dtype: object\n",
      "--------------------\n",
      "和参数方程相近似的词有：\n",
      "0           (精心, 0.6202552318572998)\n",
      "1    (12345678m, 0.6147356033325195)\n",
      "2           (万能, 0.6039505004882812)\n",
      "3           (那几, 0.5900915861129761)\n",
      "4       (工程技术人员, 0.5876032114028931)\n",
      "5        (tan36, 0.5830973386764526)\n",
      "6           (补足, 0.5824851989746094)\n",
      "7        (50-2m, 0.5752984285354614)\n",
      "8            (遂, 0.5747344493865967)\n",
      "9         (贸易总额, 0.5742104053497314)\n",
      "dtype: object\n",
      "--------------------\n",
      "和余弦函数相近似的词有：\n",
      "0      (正弦函数, 0.8784475326538086)\n",
      "1      (正切函数, 0.8479593992233276)\n",
      "2        (正切, 0.7971922755241394)\n",
      "3          (余弦, 0.76594078540802)\n",
      "4        (正弦, 0.7356472611427307)\n",
      "5    (锐角三角函数, 0.7303271293640137)\n",
      "6       (三角函数, 0.676080584526062)\n",
      "7        (管家, 0.6459221243858337)\n",
      "8      (里氏震级, 0.6308474540710449)\n",
      "9     (15+3+2, 0.520616888999939)\n",
      "dtype: object\n",
      "--------------------\n",
      "和顶点相近似的词有：\n",
      "0        (点, 0.5652026534080505)\n",
      "1       (三点, 0.4712349772453308)\n",
      "2       (格点, 0.4708291292190552)\n",
      "3       (四点, 0.4644120931625366)\n",
      "4       (边在, 0.4429646134376526)\n",
      "5      (友好, 0.43948936462402344)\n",
      "6    (坐标原点, 0.43947359919548035)\n",
      "7        (顶, 0.4291630983352661)\n",
      "8       (定点, 0.4237017035484314)\n",
      "9       (内部, 0.4194856286048889)\n",
      "dtype: object\n",
      "--------------------\n",
      "和多边形相近似的词有：\n",
      "0     (正多边形, 0.6482590436935425)\n",
      "1       (边数, 0.6113797426223755)\n",
      "2      (三角形, 0.5387148261070251)\n",
      "3        (形, 0.5364390015602112)\n",
      "4       (十边形, 0.517756462097168)\n",
      "5      (五边形, 0.5145792961120605)\n",
      "6    (任意多边形, 0.5045091509819031)\n",
      "7     (正六边形, 0.5038292407989502)\n",
      "8     (六边形, 0.48804599046707153)\n",
      "9     (凸多边形, 0.4760299324989319)\n",
      "dtype: object\n",
      "--------------------\n"
     ]
    }
   ],
   "source": [
    "# 导入模型\n",
    "model = gensim.models.Word2Vec.load(model_path)\n",
    "names = ['直线', '参数方程', '余弦函数', '顶点', '多边形']\n",
    "for n in names:\n",
    "    print('和{}相近似的词有：'.format(n))\n",
    "    print(pd.Series(model.wv.most_similar(n)))\n",
    "    print('-'*20)"
   ]
  },
  {
   "cell_type": "code",
   "execution_count": null,
   "metadata": {},
   "outputs": [],
   "source": []
  }
 ],
 "metadata": {
  "kernelspec": {
   "display_name": "Python 3",
   "language": "python",
   "name": "python3"
  },
  "language_info": {
   "codemirror_mode": {
    "name": "ipython",
    "version": 3
   },
   "file_extension": ".py",
   "mimetype": "text/x-python",
   "name": "python",
   "nbconvert_exporter": "python",
   "pygments_lexer": "ipython3",
   "version": "3.6.8"
  }
 },
 "nbformat": 4,
 "nbformat_minor": 2
}
