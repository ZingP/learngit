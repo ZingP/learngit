{
 "cells": [
  {
   "cell_type": "code",
   "execution_count": 1,
   "metadata": {},
   "outputs": [
    {
     "name": "stderr",
     "output_type": "stream",
     "text": [
      "Using TensorFlow backend.\n"
     ]
    }
   ],
   "source": [
    "import nltk\n",
    "import jieba\n",
    "import numpy as np\n",
    "import keras\n",
    "from keras import Sequential, utils\n",
    "from keras.layers import Activation, Dense\n",
    "from keras import optimizers\n",
    "\n",
    "import matplotlib.pyplot as plt\n",
    "%matplotlib inline"
   ]
  },
  {
   "cell_type": "code",
   "execution_count": 2,
   "metadata": {},
   "outputs": [],
   "source": [
    "# 根据停用词，词频等过滤word_set\n",
    "def filter_word_set(word_set):\n",
    "    return word_set\n",
    "\n",
    "# 生成word2index\n",
    "def gene_word2index(filename):\n",
    "    word_set = set()\n",
    "    with open(filename, \"r\", encoding='utf-8') as f:\n",
    "        for line in f:\n",
    "            sentence = jieba.lcut(line.strip())\n",
    "            for w in sentence:\n",
    "                word_set.add(w)\n",
    "    word_set = filter_word_set(word_set)\n",
    "    \n",
    "    word2index = dict()\n",
    "    for i, w in zip(range(len(word_set)), word_set):\n",
    "        word2index[w] = i\n",
    "    return word2index\n",
    "\n",
    "\n",
    "# 把word2index 变成onehot形式，这里不用\n",
    "def word_index2onehot(word2index):\n",
    "    word2onehot = dict()\n",
    "    for word, index in word2index.items():\n",
    "        onehot_list = np.zeros(len(word2index))\n",
    "        onehot_list[index] = 1\n",
    "        word2onehot[word] = onehot_list\n",
    "    return word2onehot\n",
    "\n",
    "# 把（n1,n2,n3,n4）变成onehot并求和[1,1,1,1,0,0...] n是onehot的维数\n",
    "def trans_onehot(li, dim):\n",
    "    onehot_list = np.zeros([dim])\n",
    "    for i in li:\n",
    "        onehot_list[i] = 1\n",
    "    return onehot_list\n",
    "\n",
    "# 创建训练集 加权后的onehot形式\n",
    "def create_train_data(filename, word2index, n=5):\n",
    "    if n % 2 != 1 or n < 3:\n",
    "        raise Exception(\"n must be odd and n>=3\")\n",
    "        \n",
    "    sentence_index_list = []\n",
    "    with open(filename, \"r\", encoding=\"utf-8\") as f:\n",
    "        for line in f:\n",
    "            sentence = jieba.lcut(line.strip())\n",
    "            word_index = [word2index[w] for w in sentence if w in word2index]\n",
    "            sentence_index_list.append(word_index)\n",
    "            \n",
    "    x_y_list = []\n",
    "    split = n // 2\n",
    "    for s in sentence_index_list:\n",
    "        tuple_list = list(nltk.ngrams(s, n))\n",
    "        for tup in tuple_list:\n",
    "            x, y = [], []\n",
    "            for i in range(n):\n",
    "                if i == split:\n",
    "                    y.append(tup[i])\n",
    "                else:\n",
    "                    x.append(tup[i])\n",
    "            x_y_list.append((x, y))\n",
    "    \n",
    "    np.random.shuffle(x_y_list)\n",
    "    X, Y = [], []\n",
    "    for item in x_y_list:\n",
    "        x = trans_onehot(item[0], len(word2index))\n",
    "        X.append(x)\n",
    "        y = trans_onehot(item[1], len(word2index))\n",
    "        Y.append(y)\n",
    "    \n",
    "    return X, Y\n",
    "\n",
    "# 创建模型\n",
    "def creat_model(x_train, y_train, embedding_dim=100):\n",
    "    model = Sequential()\n",
    "    model.add(Dense(embedding_dim, input_dim=x_train.shape[1]))\n",
    "    model.add(Activation('relu'))\n",
    "    model.add(Dense(y_train.shape[1]))\n",
    "    model.add(Activation('softmax'))\n",
    "    model.compile(optimizer='adam', loss='categorical_crossentropy', metrics=['accuracy'])\n",
    "    return model"
   ]
  },
  {
   "cell_type": "code",
   "execution_count": 3,
   "metadata": {},
   "outputs": [],
   "source": [
    "filename = './data/names_of_people.txt'"
   ]
  },
  {
   "cell_type": "code",
   "execution_count": 4,
   "metadata": {},
   "outputs": [
    {
     "name": "stderr",
     "output_type": "stream",
     "text": [
      "Building prefix dict from the default dictionary ...\n",
      "Loading model from cache /tmp/jieba.cache\n",
      "Loading model cost 0.925 seconds.\n",
      "Prefix dict has been built succesfully.\n"
     ]
    }
   ],
   "source": [
    "word2index = gene_word2index(filename)"
   ]
  },
  {
   "cell_type": "code",
   "execution_count": 5,
   "metadata": {},
   "outputs": [],
   "source": [
    "X, y = create_train_data(filename, word2index)"
   ]
  },
  {
   "cell_type": "code",
   "execution_count": 6,
   "metadata": {},
   "outputs": [],
   "source": [
    "X_train = np.array(X)\n",
    "y_train = np.array(y)"
   ]
  },
  {
   "cell_type": "code",
   "execution_count": 7,
   "metadata": {},
   "outputs": [
    {
     "data": {
      "text/plain": [
       "(13235, 3760)"
      ]
     },
     "execution_count": 7,
     "metadata": {},
     "output_type": "execute_result"
    }
   ],
   "source": [
    "X_train.shape"
   ]
  },
  {
   "cell_type": "code",
   "execution_count": 8,
   "metadata": {},
   "outputs": [
    {
     "data": {
      "text/plain": [
       "numpy.ndarray"
      ]
     },
     "execution_count": 8,
     "metadata": {},
     "output_type": "execute_result"
    }
   ],
   "source": [
    "type(X_train)"
   ]
  },
  {
   "cell_type": "code",
   "execution_count": 9,
   "metadata": {},
   "outputs": [
    {
     "data": {
      "text/plain": [
       "(13235, 3760)"
      ]
     },
     "execution_count": 9,
     "metadata": {},
     "output_type": "execute_result"
    }
   ],
   "source": [
    "y_train.shape"
   ]
  },
  {
   "cell_type": "markdown",
   "metadata": {},
   "source": [
    "## 模型训练"
   ]
  },
  {
   "cell_type": "code",
   "execution_count": 10,
   "metadata": {},
   "outputs": [],
   "source": [
    "epochs = 20\n",
    "batch_size = 128\n",
    "model = creat_model(X_train, y_train)"
   ]
  },
  {
   "cell_type": "code",
   "execution_count": 11,
   "metadata": {
    "scrolled": true
   },
   "outputs": [
    {
     "name": "stdout",
     "output_type": "stream",
     "text": [
      "Train on 9264 samples, validate on 3971 samples\n",
      "Epoch 1/20\n",
      "9264/9264 [==============================] - 6s 635us/step - loss: 7.9684 - acc: 0.0806 - val_loss: 7.3440 - val_acc: 0.1005\n",
      "Epoch 2/20\n",
      "9264/9264 [==============================] - 2s 226us/step - loss: 6.7239 - acc: 0.0978 - val_loss: 7.0936 - val_acc: 0.1005\n",
      "Epoch 3/20\n",
      "9264/9264 [==============================] - 2s 228us/step - loss: 6.4184 - acc: 0.0978 - val_loss: 7.1260 - val_acc: 0.1005\n",
      "Epoch 4/20\n",
      "9264/9264 [==============================] - 2s 228us/step - loss: 6.2845 - acc: 0.0978 - val_loss: 7.1650 - val_acc: 0.1005\n",
      "Epoch 5/20\n",
      "9264/9264 [==============================] - 2s 229us/step - loss: 6.1795 - acc: 0.0978 - val_loss: 7.1951 - val_acc: 0.1005\n",
      "Epoch 6/20\n",
      "9264/9264 [==============================] - 2s 232us/step - loss: 6.0782 - acc: 0.0979 - val_loss: 7.2275 - val_acc: 0.1015\n",
      "Epoch 7/20\n",
      "9264/9264 [==============================] - 2s 232us/step - loss: 5.9701 - acc: 0.0995 - val_loss: 7.2794 - val_acc: 0.1073\n",
      "Epoch 8/20\n",
      "9264/9264 [==============================] - 2s 191us/step - loss: 5.8500 - acc: 0.1093 - val_loss: 7.3053 - val_acc: 0.1088\n",
      "Epoch 9/20\n",
      "9264/9264 [==============================] - 2s 240us/step - loss: 5.7170 - acc: 0.1240 - val_loss: 7.3329 - val_acc: 0.1156\n",
      "Epoch 10/20\n",
      "9264/9264 [==============================] - 2s 226us/step - loss: 5.5717 - acc: 0.1404 - val_loss: 7.3702 - val_acc: 0.1176\n",
      "Epoch 11/20\n",
      "9264/9264 [==============================] - 2s 227us/step - loss: 5.4107 - acc: 0.1513 - val_loss: 7.4162 - val_acc: 0.1181\n",
      "Epoch 12/20\n",
      "9264/9264 [==============================] - 2s 231us/step - loss: 5.2344 - acc: 0.1634 - val_loss: 7.4619 - val_acc: 0.1174\n",
      "Epoch 13/20\n",
      "9264/9264 [==============================] - 2s 235us/step - loss: 5.0416 - acc: 0.1797 - val_loss: 7.5215 - val_acc: 0.1196\n",
      "Epoch 14/20\n",
      "9264/9264 [==============================] - 2s 216us/step - loss: 4.8322 - acc: 0.1978 - val_loss: 7.5780 - val_acc: 0.1156\n",
      "Epoch 15/20\n",
      "9264/9264 [==============================] - 2s 239us/step - loss: 4.6060 - acc: 0.2200 - val_loss: 7.6408 - val_acc: 0.1181\n",
      "Epoch 16/20\n",
      "9264/9264 [==============================] - 2s 252us/step - loss: 4.3605 - acc: 0.2396 - val_loss: 7.7045 - val_acc: 0.1138\n",
      "Epoch 17/20\n",
      "9264/9264 [==============================] - 2s 252us/step - loss: 4.0972 - acc: 0.2611 - val_loss: 7.7606 - val_acc: 0.1156\n",
      "Epoch 18/20\n",
      "9264/9264 [==============================] - 2s 252us/step - loss: 3.8171 - acc: 0.2875 - val_loss: 7.8139 - val_acc: 0.1151\n",
      "Epoch 19/20\n",
      "9264/9264 [==============================] - 2s 245us/step - loss: 3.5226 - acc: 0.3172 - val_loss: 7.8629 - val_acc: 0.1103\n",
      "Epoch 20/20\n",
      "9264/9264 [==============================] - 2s 244us/step - loss: 3.2175 - acc: 0.3577 - val_loss: 7.9128 - val_acc: 0.1048\n"
     ]
    }
   ],
   "source": [
    "history = model.fit(X_train, y_train, validation_split=0.3, verbose=1, batch_size=batch_size, epochs=epochs)"
   ]
  },
  {
   "cell_type": "markdown",
   "metadata": {},
   "source": [
    "## 画图"
   ]
  },
  {
   "cell_type": "code",
   "execution_count": 12,
   "metadata": {},
   "outputs": [
    {
     "data": {
      "image/png": "[encoded data removed]",
      "text/plain": [
       "<Figure size 432x288 with 2 Axes>"
      ]
     },
     "metadata": {
      "needs_background": "light"
     },
     "output_type": "display_data"
    }
   ],
   "source": [
    "plt.subplot(211)\n",
    "plt.title(\"accuracy\")\n",
    "plt.plot(history.history[\"acc\"], color=\"r\", label=\"train\")\n",
    "plt.plot(history.history[\"val_acc\"], color=\"b\", label=\"validation\")\n",
    "plt.legend(loc=\"best\")\n",
    "\n",
    "plt.subplot(212)\n",
    "plt.title(\"loss\")\n",
    "plt.plot(history.history[\"loss\"], color=\"r\", label=\"train\")\n",
    "plt.plot(history.history[\"val_loss\"], color=\"b\", label=\"validation\")\n",
    "plt.legend(loc=\"best\")\n",
    "plt.tight_layout()\n",
    "plt.show()"
   ]
  },
  {
   "cell_type": "code",
   "execution_count": null,
   "metadata": {},
   "outputs": [],
   "source": []
  }
 ],
 "metadata": {
  "kernelspec": {
   "display_name": "Python 3",
   "language": "python",
   "name": "python3"
  },
  "language_info": {
   "codemirror_mode": {
    "name": "ipython",
    "version": 3
   },
   "file_extension": ".py",
   "mimetype": "text/x-python",
   "name": "python",
   "nbconvert_exporter": "python",
   "pygments_lexer": "ipython3",
   "version": "3.6.8"
  }
 },
 "nbformat": 4,
 "nbformat_minor": 2
}
