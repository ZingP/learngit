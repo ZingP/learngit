{
 "cells": [
  {
   "cell_type": "code",
   "execution_count": 1,
   "metadata": {},
   "outputs": [
    {
     "name": "stderr",
     "output_type": "stream",
     "text": [
      "Using TensorFlow backend.\n"
     ]
    }
   ],
   "source": [
    "import os\n",
    "import tensorflow as tf\n",
    "from keras.backend.tensorflow_backend import set_session\n",
    "\n",
    "os.environ[\"CUDA_VISIBLE_DEVICES\"] = \"0\"\n",
    "config = tf.ConfigProto()\n",
    "config.gpu_options.per_process_gpu_memory_fraction = 0.3\n",
    "set_session(tf.Session(config=config))\n",
    "\n",
    "import numpy as np\n",
    "from keras.datasets import mnist\n",
    "from keras.models import Sequential\n",
    "from keras.layers import Dense, Dropout, Activation, Flatten\n",
    "from keras.layers import Convolution2D, MaxPooling2D\n",
    "from keras.utils import np_utils"
   ]
  },
  {
   "cell_type": "code",
   "execution_count": 2,
   "metadata": {},
   "outputs": [],
   "source": [
    "import keras.backend.tensorflow_backend as KTF\n",
    "import tensorflow as tf\n",
    "import os\n",
    "\n",
    "os.environ[\"CUDA_VISIBLE_DEVICES\"] = \"1\"\n",
    "config = tf.ConfigProto()\n",
    "config.gpu_options.allow_growth=True   #不全部占满显存, 按需分配\n",
    "sess = tf.Session(config=config)\n",
    "KTF.set_session(sess)"
   ]
  },
  {
   "cell_type": "code",
   "execution_count": 2,
   "metadata": {},
   "outputs": [],
   "source": [
    "batch_size = 128 # batch大小代表每次更新权重时候喂入的样本数\n",
    "nb_classes = 10 # 最后分类的类别数\n",
    "nb_epoch = 12 # 样本整体循环轮次\n",
    "\n",
    "# 输入数据的维度\n",
    "img_rows, img_cols = 28, 28\n",
    "# 使用的卷积滤波器的数量\n",
    "# nb_filters = 32\n",
    "# 用于 max pooling 的池化面积\n",
    "# pool_size = (2, 2)\n",
    "# 卷积核的尺寸\n",
    "# kernel_size = (3, 3)"
   ]
  },
  {
   "cell_type": "code",
   "execution_count": 3,
   "metadata": {},
   "outputs": [],
   "source": [
    "# X_train = X_train.reshape(X_train.shape[0], -1)\n",
    "# X_train.shape[0]"
   ]
  },
  {
   "cell_type": "code",
   "execution_count": 4,
   "metadata": {},
   "outputs": [],
   "source": [
    "(X_train, y_train), (X_test, y_test) = mnist.load_data()\n",
    "X_train = X_train.reshape(X_train.shape[0], img_rows, img_cols, 1) # matrix\n",
    "X_test = X_test.reshape(X_test.shape[0], img_rows, img_cols, 1)\n",
    "input_shape = (img_rows, img_cols, 1)"
   ]
  },
  {
   "cell_type": "code",
   "execution_count": 5,
   "metadata": {},
   "outputs": [
    {
     "data": {
      "text/plain": [
       "(60000, 28, 28, 1)"
      ]
     },
     "execution_count": 5,
     "metadata": {},
     "output_type": "execute_result"
    }
   ],
   "source": [
    "X_train.shape"
   ]
  },
  {
   "cell_type": "code",
   "execution_count": 6,
   "metadata": {},
   "outputs": [],
   "source": [
    "x_train=X_train/255.\n",
    "x_test=X_test/255.\n",
    "y_train=np_utils.to_categorical(y_train)\n",
    "y_test=np_utils.to_categorical(y_test)"
   ]
  },
  {
   "cell_type": "code",
   "execution_count": 7,
   "metadata": {},
   "outputs": [
    {
     "data": {
      "text/plain": [
       "(60000, 28, 28, 1)"
      ]
     },
     "execution_count": 7,
     "metadata": {},
     "output_type": "execute_result"
    }
   ],
   "source": [
    "x_train.shape"
   ]
  },
  {
   "cell_type": "code",
   "execution_count": 8,
   "metadata": {},
   "outputs": [],
   "source": [
    "model = Sequential()\n",
    "# 卷积核数量16，大小5*5 strides为步长\n",
    "model.add(Convolution2D(16, kernel_size=(5, 5), activation='relu', padding='same',strides=1,input_shape=(img_rows, img_cols, 1)))\n",
    "# 2*2 降为\n",
    "model.add(MaxPooling2D(2, 2))\n",
    "\n",
    "model.add(Convolution2D(32, kernel_size=(5, 5), activation='relu', padding='same',strides=1))\n",
    "model.add(MaxPooling2D(2, 2))\n",
    "\n",
    "model.add(Convolution2D(8, kernel_size=(5, 5), activation='relu', padding='same',strides=1))\n",
    "model.add(MaxPooling2D(2, 2))\n",
    "\n",
    "model.add(Flatten())\n",
    "model.add(Dense(1000, activation='relu'))\n",
    "\n",
    "model.add(Dense(10, activation='softmax'))"
   ]
  },
  {
   "cell_type": "code",
   "execution_count": 9,
   "metadata": {},
   "outputs": [
    {
     "name": "stdout",
     "output_type": "stream",
     "text": [
      "_________________________________________________________________\n",
      "Layer (type)                 Output Shape              Param #   \n",
      "=================================================================\n",
      "conv2d_1 (Conv2D)            (None, 28, 28, 16)        416       \n",
      "_________________________________________________________________\n",
      "max_pooling2d_1 (MaxPooling2 (None, 14, 14, 16)        0         \n",
      "_________________________________________________________________\n",
      "conv2d_2 (Conv2D)            (None, 14, 14, 32)        12832     \n",
      "_________________________________________________________________\n",
      "max_pooling2d_2 (MaxPooling2 (None, 7, 7, 32)          0         \n",
      "_________________________________________________________________\n",
      "conv2d_3 (Conv2D)            (None, 7, 7, 8)           6408      \n",
      "_________________________________________________________________\n",
      "max_pooling2d_3 (MaxPooling2 (None, 3, 3, 8)           0         \n",
      "_________________________________________________________________\n",
      "flatten_1 (Flatten)          (None, 72)                0         \n",
      "_________________________________________________________________\n",
      "dense_1 (Dense)              (None, 1000)              73000     \n",
      "_________________________________________________________________\n",
      "dense_2 (Dense)              (None, 10)                10010     \n",
      "=================================================================\n",
      "Total params: 102,666\n",
      "Trainable params: 102,666\n",
      "Non-trainable params: 0\n",
      "_________________________________________________________________\n"
     ]
    }
   ],
   "source": [
    "model.summary()"
   ]
  },
  {
   "cell_type": "code",
   "execution_count": 10,
   "metadata": {},
   "outputs": [],
   "source": [
    "model.compile(optimizer='Adam',loss='categorical_crossentropy',metrics=['accuracy'])"
   ]
  },
  {
   "cell_type": "code",
   "execution_count": 11,
   "metadata": {},
   "outputs": [
    {
     "name": "stdout",
     "output_type": "stream",
     "text": [
      "Train on 60000 samples, validate on 10000 samples\n",
      "Epoch 1/12\n",
      "60000/60000 [==============================] - 10s 163us/step - loss: 0.5347 - acc: 0.8751 - val_loss: 2.2670 - val_acc: 0.1944\n",
      "Epoch 2/12\n",
      "60000/60000 [==============================] - 7s 119us/step - loss: 0.0953 - acc: 0.9707 - val_loss: 2.2603 - val_acc: 0.1965\n",
      "Epoch 3/12\n",
      "60000/60000 [==============================] - 7s 119us/step - loss: 0.0674 - acc: 0.9784 - val_loss: 2.2591 - val_acc: 0.1959\n",
      "Epoch 4/12\n",
      "60000/60000 [==============================] - 7s 119us/step - loss: 0.0559 - acc: 0.9829 - val_loss: 2.2631 - val_acc: 0.1915\n",
      "Epoch 5/12\n",
      "60000/60000 [==============================] - 7s 119us/step - loss: 0.0458 - acc: 0.9855 - val_loss: 2.2601 - val_acc: 0.1836\n",
      "Epoch 6/12\n",
      "60000/60000 [==============================] - 7s 117us/step - loss: 0.0415 - acc: 0.9867 - val_loss: 2.2680 - val_acc: 0.1675\n",
      "Epoch 7/12\n",
      "60000/60000 [==============================] - 7s 116us/step - loss: 0.0398 - acc: 0.9872 - val_loss: 2.2673 - val_acc: 0.1905\n",
      "Epoch 8/12\n",
      "60000/60000 [==============================] - 7s 119us/step - loss: 0.0313 - acc: 0.9900 - val_loss: 2.2727 - val_acc: 0.1829\n",
      "Epoch 9/12\n",
      "60000/60000 [==============================] - 7s 118us/step - loss: 0.0339 - acc: 0.9891 - val_loss: 2.2777 - val_acc: 0.1834\n",
      "Epoch 10/12\n",
      "60000/60000 [==============================] - 7s 117us/step - loss: 0.0287 - acc: 0.9909 - val_loss: 2.2801 - val_acc: 0.1997\n",
      "Epoch 11/12\n",
      "60000/60000 [==============================] - 7s 117us/step - loss: 0.0274 - acc: 0.9909 - val_loss: 2.2883 - val_acc: 0.1858\n",
      "Epoch 12/12\n",
      "60000/60000 [==============================] - 7s 116us/step - loss: 0.0278 - acc: 0.9912 - val_loss: 2.2852 - val_acc: 0.2643\n"
     ]
    },
    {
     "data": {
      "text/plain": [
       "<keras.callbacks.History at 0x286b3f82860>"
      ]
     },
     "execution_count": 11,
     "metadata": {},
     "output_type": "execute_result"
    }
   ],
   "source": [
    "model.fit(x=X_train, y=y_train, batch_size=batch_size, epochs=nb_epoch, verbose=1,validation_data=(x_test,y_test))"
   ]
  },
  {
   "cell_type": "code",
   "execution_count": null,
   "metadata": {},
   "outputs": [],
   "source": []
  }
 ],
 "metadata": {
  "kernelspec": {
   "display_name": "Python 3",
   "language": "python",
   "name": "python3"
  },
  "language_info": {
   "codemirror_mode": {
    "name": "ipython",
    "version": 3
   },
   "file_extension": ".py",
   "mimetype": "text/x-python",
   "name": "python",
   "nbconvert_exporter": "python",
   "pygments_lexer": "ipython3",
   "version": "3.6.7"
  }
 },
 "nbformat": 4,
 "nbformat_minor": 2
}
