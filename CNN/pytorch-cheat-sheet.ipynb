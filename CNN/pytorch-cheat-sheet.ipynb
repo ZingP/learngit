{
 "cells": [
  {
   "cell_type": "code",
   "execution_count": 1,
   "metadata": {},
   "outputs": [],
   "source": [
    "import torch"
   ]
  },
  {
   "cell_type": "code",
   "execution_count": 9,
   "metadata": {},
   "outputs": [],
   "source": [
    "a = torch.tensor([[-0.0528, -0.0320,  0.0355,  0.0306,  0.0227,  0.0723, -0.0201,  0.0366,\n",
    "          0.0928, -0.0065],\n",
    "        [-0.0535, -0.0606,  0.0325,  0.0244,  0.0262,  0.0677, -0.0312,  0.0404,\n",
    "          0.0752,  0.0014],\n",
    "        [-0.0558, -0.0659,  0.0468,  0.0132,  0.0217,  0.0797, -0.0211,  0.0270,\n",
    "          0.0919, -0.0061],\n",
    "        [-0.0429, -0.0435,  0.0429,  0.0289,  0.0414,  0.0654, -0.0416,  0.0262,\n",
    "          0.0720, -0.0012]])"
   ]
  },
  {
   "cell_type": "code",
   "execution_count": 10,
   "metadata": {},
   "outputs": [
    {
     "data": {
      "text/plain": [
       "tensor([[-0.0528, -0.0320,  0.0355,  0.0306,  0.0227,  0.0723, -0.0201,  0.0366,\n",
       "          0.0928, -0.0065],\n",
       "        [-0.0535, -0.0606,  0.0325,  0.0244,  0.0262,  0.0677, -0.0312,  0.0404,\n",
       "          0.0752,  0.0014],\n",
       "        [-0.0558, -0.0659,  0.0468,  0.0132,  0.0217,  0.0797, -0.0211,  0.0270,\n",
       "          0.0919, -0.0061],\n",
       "        [-0.0429, -0.0435,  0.0429,  0.0289,  0.0414,  0.0654, -0.0416,  0.0262,\n",
       "          0.0720, -0.0012]])"
      ]
     },
     "execution_count": 10,
     "metadata": {},
     "output_type": "execute_result"
    }
   ],
   "source": [
    "a"
   ]
  },
  {
   "cell_type": "code",
   "execution_count": 19,
   "metadata": {},
   "outputs": [],
   "source": [
    "b = a.max(1, keepdim=True) # Tensor or (Tensor, Tensor) 前一个Tensor是最大的概率，后一个是索引\n",
    "# torch.max(input, dim, max=None, max_indices=None) -> (Tensor, LongTensor)\n",
    "# 返回输入张量给定维度上每行的最大值，并同时返回每个最大值的位置索引。\n",
    "# 输出形状中，将dim维设定为1，其它与输入形状保持一致。"
   ]
  },
  {
   "cell_type": "code",
   "execution_count": 20,
   "metadata": {},
   "outputs": [
    {
     "data": {
      "text/plain": [
       "(tensor([[0.0928],\n",
       "         [0.0752],\n",
       "         [0.0919],\n",
       "         [0.0720]]), tensor([[8],\n",
       "         [8],\n",
       "         [8],\n",
       "         [8]]))"
      ]
     },
     "execution_count": 20,
     "metadata": {},
     "output_type": "execute_result"
    }
   ],
   "source": [
    "b"
   ]
  },
  {
   "cell_type": "code",
   "execution_count": 18,
   "metadata": {},
   "outputs": [],
   "source": [
    "?a.max"
   ]
  },
  {
   "cell_type": "code",
   "execution_count": null,
   "metadata": {},
   "outputs": [],
   "source": []
  }
 ],
 "metadata": {
  "kernelspec": {
   "display_name": "Python 3",
   "language": "python",
   "name": "python3"
  },
  "language_info": {
   "codemirror_mode": {
    "name": "ipython",
    "version": 3
   },
   "file_extension": ".py",
   "mimetype": "text/x-python",
   "name": "python",
   "nbconvert_exporter": "python",
   "pygments_lexer": "ipython3",
   "version": "3.6.8"
  }
 },
 "nbformat": 4,
 "nbformat_minor": 2
}
