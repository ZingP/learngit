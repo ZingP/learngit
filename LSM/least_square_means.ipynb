{
 "cells": [
  {
   "cell_type": "markdown",
   "metadata": {},
   "source": [
    "# 最小二乘"
   ]
  },
  {
   "cell_type": "markdown",
   "metadata": {},
   "source": [
    "## 1 生成数据"
   ]
  },
  {
   "cell_type": "code",
   "execution_count": 1,
   "metadata": {},
   "outputs": [],
   "source": [
    "import numpy as np\n",
    "import math\n",
    "import matplotlib.pyplot as plt"
   ]
  },
  {
   "cell_type": "code",
   "execution_count": 2,
   "metadata": {},
   "outputs": [],
   "source": [
    "X = np.linspace(0, 10, 100)"
   ]
  },
  {
   "cell_type": "code",
   "execution_count": 3,
   "metadata": {},
   "outputs": [],
   "source": [
    "y = [2*x + 6 for x in X]"
   ]
  },
  {
   "cell_type": "code",
   "execution_count": 4,
   "metadata": {},
   "outputs": [],
   "source": [
    "Y = [np.random.normal(z, 2.8) for z in y]"
   ]
  },
  {
   "cell_type": "code",
   "execution_count": 5,
   "metadata": {},
   "outputs": [
    {
     "data": {
      "text/plain": [
       "[<matplotlib.lines.Line2D at 0x11330fe10>]"
      ]
     },
     "execution_count": 5,
     "metadata": {},
     "output_type": "execute_result"
    },
    {
     "data": {
      "image/png": "[encoded data removed]",
      "text/plain": [
       "<Figure size 432x288 with 1 Axes>"
      ]
     },
     "metadata": {
      "needs_background": "light"
     },
     "output_type": "display_data"
    }
   ],
   "source": [
    "plt.plot(X, Y, 'b.')"
   ]
  },
  {
   "cell_type": "markdown",
   "metadata": {},
   "source": [
    "## 2 解方程求解"
   ]
  },
  {
   "cell_type": "markdown",
   "metadata": {},
   "source": [
    "### 解得结果：\n",
    "$a=\\frac{n\\sum_{i=1}^{n}x_{i}y_{i} -\\sum_{i=1}^{n}x_{i}\\sum_{i=1}^{n}y_{i}}{n\\sum_{i=1}^{n}x_{i}^{2}-(\\sum_{i=1}^{n}x_{i})^{2} }$\n",
    "\n",
    "$b=\\frac{\\sum_{i=1}^{n}x_{i}^{2}\\sum_{i=1}^{n}y_{i} - \\sum_{i=1}^{n}x_{i}\\sum_{i=1}^{n}x_{i}y_{i}}{n\\sum_{i=1}^{n}x_{i}^{2} - (\\sum_{i=1}^{n}x_{i})^2}$"
   ]
  },
  {
   "cell_type": "code",
   "execution_count": 6,
   "metadata": {},
   "outputs": [],
   "source": [
    "# 直接求a, b\n",
    "def least_square(x, y):\n",
    "    sumxy = sum(x*y)\n",
    "    sumx = sum(x)\n",
    "    sumy = sum(y)\n",
    "    sumx2 = sum(x**2)\n",
    "    n = len(x)\n",
    "    a = (n*sumxy - sumx*sumy) / (n*sumx2 -sumx**2)\n",
    "    b = (sumx2*sumy - sumx*sumxy)/(n*sumx2 - sumx**2)\n",
    "    return b, a"
   ]
  },
  {
   "cell_type": "code",
   "execution_count": 7,
   "metadata": {},
   "outputs": [],
   "source": [
    "b, a = least_square(X, Y)"
   ]
  },
  {
   "cell_type": "code",
   "execution_count": 8,
   "metadata": {},
   "outputs": [
    {
     "name": "stdout",
     "output_type": "stream",
     "text": [
      "5.494923711017665 2.087263029384611\n"
     ]
    }
   ],
   "source": [
    "print(b, a)"
   ]
  },
  {
   "cell_type": "code",
   "execution_count": 9,
   "metadata": {},
   "outputs": [],
   "source": [
    "Y_ = [a*x + b for x in X]"
   ]
  },
  {
   "cell_type": "code",
   "execution_count": 10,
   "metadata": {},
   "outputs": [
    {
     "data": {
      "text/plain": [
       "Text(0.5, 1.0, 'y=2.087263029384611+5.494923711017665x')"
      ]
     },
     "execution_count": 10,
     "metadata": {},
     "output_type": "execute_result"
    },
    {
     "data": {
      "image/png": "[encoded data removed]",
      "text/plain": [
       "<Figure size 432x288 with 1 Axes>"
      ]
     },
     "metadata": {
      "needs_background": "light"
     },
     "output_type": "display_data"
    }
   ],
   "source": [
    "plt.plot(X, Y, 'b.')\n",
    "plt.plot(X, Y_, 'r')\n",
    "plt.plot(X, y, 'g')\n",
    "plt.title(\"y={}+{}x\".format(a,b))"
   ]
  },
  {
   "cell_type": "markdown",
   "metadata": {},
   "source": [
    "## 3 线性代数法（解矩阵方程）\n",
    "$X = (A^{T}A)^{-1}A^{T}b$\n",
    "\n",
    "求解 $Ax=b$\n",
    "往往是知道x和b反求A"
   ]
  },
  {
   "cell_type": "code",
   "execution_count": 11,
   "metadata": {},
   "outputs": [
    {
     "data": {
      "text/plain": [
       "matrix([[2.08726303],\n",
       "        [5.49492371]])"
      ]
     },
     "execution_count": 11,
     "metadata": {},
     "output_type": "execute_result"
    }
   ],
   "source": [
    "G = np.mat([X, [1 for i in range(len(X))]]).T\n",
    "b = np.mat(Y).T\n",
    "ret_x = (G.T*G).I*G.T*b\n",
    "ret_x"
   ]
  }
 ],
 "metadata": {
  "kernelspec": {
   "display_name": "Python 3",
   "language": "python",
   "name": "python3"
  },
  "language_info": {
   "codemirror_mode": {
    "name": "ipython",
    "version": 3
   },
   "file_extension": ".py",
   "mimetype": "text/x-python",
   "name": "python",
   "nbconvert_exporter": "python",
   "pygments_lexer": "ipython3",
   "version": "3.6.8"
  }
 },
 "nbformat": 4,
 "nbformat_minor": 2
}
