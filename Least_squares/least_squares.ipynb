{
 "cells": [
  {
   "cell_type": "code",
   "execution_count": 2,
   "metadata": {},
   "outputs": [],
   "source": [
    "import numpy as np\n",
    "import matplotlib.pyplot as plt"
   ]
  },
  {
   "cell_type": "code",
   "execution_count": 3,
   "metadata": {},
   "outputs": [],
   "source": [
    "# 生成模拟的点\n",
    "X = np.arange(0, 10, 0.1)\n",
    "Y = np.array([np.random.normal(i, 1) for i in [x*5+6 for x in X]])    # np.random.normal(i, 1) 对i,随机加减（0,1）内的数"
   ]
  },
  {
   "cell_type": "code",
   "execution_count": 4,
   "metadata": {},
   "outputs": [
    {
     "data": {
      "image/png": "[encoded data removed]",
      "text/plain": [
       "<matplotlib.figure.Figure at 0x8961860>"
      ]
     },
     "metadata": {},
     "output_type": "display_data"
    }
   ],
   "source": [
    "plt.plot(X, Y, 'r.') \n",
    "plt.show()"
   ]
  },
  {
   "cell_type": "markdown",
   "metadata": {},
   "source": [
    "## 最小二乘\n",
    "    结果：\n",
    "$a=\\frac{n\\sum_{i=1}^{n}x_{i}y_{i} -\\sum_{i=1}^{n}x_{i}\\sum_{i=1}^{n}y_{i}}{n\\sum_{i=1}^{n}x_{i}^{2}-(\\sum_{i=1}^{n}x_{i})^{2} }$\n",
    "\n",
    "$b=\\frac{\\sum_{i=1}^{n}x_{i}^{2}\\sum_{i=1}^{n}y_{i} - \\sum_{i=1}^{n}x_{i}\\sum_{i=1}^{n}x_{i}y_{i}}{n\\sum_{i=1}^{n}x_{i}^{2} - (\\sum_{i=1}^{n}x_{i})^2}$"
   ]
  },
  {
   "cell_type": "code",
   "execution_count": 5,
   "metadata": {},
   "outputs": [
    {
     "data": {
      "text/plain": [
       "(6.0506500686932858, 4.9847965519558137)"
      ]
     },
     "execution_count": 5,
     "metadata": {},
     "output_type": "execute_result"
    }
   ],
   "source": [
    "# 直接求a, b\n",
    "def least_square1(x, y):\n",
    "    sumxy = sum(x*y)\n",
    "    sumx = sum(x)\n",
    "    sumy = sum(y)\n",
    "    sumx2 = sum(x**2)\n",
    "    n = len(x)\n",
    "    a = (n*sumxy - sumx*sumy) / (n*sumx2 -sumx**2)\n",
    "    b = (sumx2*sumy - sumx*sumxy)/(n*sumx2 - sumx**2)\n",
    "    return b, a\n",
    "\n",
    "b, a = least_square1(X, Y)\n",
    "b, a"
   ]
  },
  {
   "cell_type": "code",
   "execution_count": 6,
   "metadata": {},
   "outputs": [
    {
     "data": {
      "text/plain": [
       "(6.0506500686932956, 4.9847965519558146)"
      ]
     },
     "execution_count": 6,
     "metadata": {},
     "output_type": "execute_result"
    }
   ],
   "source": [
    "# 通过numpy.linalg.solve求\n",
    "def least_square2(x, y): \n",
    "    sumxy = sum(x*y)\n",
    "    sumx = sum(x)\n",
    "    sumy = sum(y)\n",
    "    sumx2 = sum(x**2)\n",
    "    n = len(x)\n",
    "    A = np.mat([[n, sumx], [sumx, sumx2]])\n",
    "    b = np.array([sumy, sumxy])\n",
    "    return np.linalg.solve(A, b)\n",
    "b, a = least_square2(X, Y)\n",
    "b, a"
   ]
  },
  {
   "cell_type": "code",
   "execution_count": 7,
   "metadata": {},
   "outputs": [
    {
     "data": {
      "image/png": "[encoded data removed]",
      "text/plain": [
       "<matplotlib.figure.Figure at 0x8de4320>"
      ]
     },
     "metadata": {},
     "output_type": "display_data"
    }
   ],
   "source": [
    "# 生成图像看下效果\n",
    "X2 = np.arange(0, 10, 0.1)\n",
    "Y2 = [b + a*x for x in X2]\n",
    "plt.plot(X, Y, 'r.', X2, Y2, 'b',linewidth=2)\n",
    "plt.show()"
   ]
  },
  {
   "cell_type": "markdown",
   "metadata": {},
   "source": [
    "# 线性代数法\n",
    "$X = (A^{T}A)^{-1}A^{T}b$\n",
    "\n",
    "求解 $Ax=b$\n",
    "往往是知道x和b反求A"
   ]
  },
  {
   "cell_type": "code",
   "execution_count": 8,
   "metadata": {},
   "outputs": [
    {
     "data": {
      "text/plain": [
       "matrix([[ 4.98479655],\n",
       "        [ 6.05065007]])"
      ]
     },
     "execution_count": 8,
     "metadata": {},
     "output_type": "execute_result"
    }
   ],
   "source": [
    "# 线代法\n",
    "A = np.mat([X, [1 for i in range(len(X))]]).T\n",
    "b = np.mat(Y).T\n",
    "ret_x = (A.T*A).I*A.T*b\n",
    "ret_x"
   ]
  },
  {
   "cell_type": "code",
   "execution_count": null,
   "metadata": {},
   "outputs": [],
   "source": []
  }
 ],
 "metadata": {
  "kernelspec": {
   "display_name": "Python 3",
   "language": "python",
   "name": "python3"
  },
  "language_info": {
   "codemirror_mode": {
    "name": "ipython",
    "version": 3
   },
   "file_extension": ".py",
   "mimetype": "text/x-python",
   "name": "python",
   "nbconvert_exporter": "python",
   "pygments_lexer": "ipython3",
   "version": "3.6.5"
  },
  "toc": {
   "base_numbering": 1,
   "nav_menu": {},
   "number_sections": true,
   "sideBar": true,
   "skip_h1_title": false,
   "title_cell": "Table of Contents",
   "title_sidebar": "Contents",
   "toc_cell": false,
   "toc_position": {},
   "toc_section_display": true,
   "toc_window_display": false
  }
 },
 "nbformat": 4,
 "nbformat_minor": 2
}
