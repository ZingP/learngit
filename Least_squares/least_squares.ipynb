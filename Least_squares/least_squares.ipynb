{
 "cells": [
  {
   "cell_type": "code",
   "execution_count": 1,
   "metadata": {},
   "outputs": [],
   "source": [
    "import numpy as np\n",
    "import matplotlib.pyplot as plt"
   ]
  },
  {
   "cell_type": "code",
   "execution_count": 9,
   "metadata": {},
   "outputs": [
    {
     "data": {
      "text/plain": [
       "array([  5.79960978,   6.96234642,   7.78687191,   6.99028865,\n",
       "         6.16647901,   8.93872026,   9.27112007,   8.67668957,\n",
       "        10.55563019,  10.14434104,   8.98528652,  11.26795081,\n",
       "        11.83090291,  12.7298804 ,  13.26954688,  13.69958627,\n",
       "        13.32241396,  14.64147118,  14.72625067,  13.91417711,\n",
       "        15.41250021,  15.53998897,  17.57019739,  16.63018666,\n",
       "        21.0308308 ,  18.53755263,  20.25473024,  19.31364802,\n",
       "        20.1315955 ,  21.77034933,  20.1626778 ,  20.58301129,\n",
       "        20.41172121,  22.97510549,  22.74543554,  22.44799322,\n",
       "        23.21487559,  24.0036402 ,  25.82532684,  26.3324757 ,\n",
       "        25.73416399,  25.36552012,  27.21755807,  27.34589586,\n",
       "        27.04573269,  26.78438114,  27.73040874,  29.38813015,\n",
       "        30.56270564,  29.9663189 ,  32.17889022,  31.16349767,\n",
       "        32.25403661,  32.46921488,  32.13932559,  34.67577334,\n",
       "        34.82856753,  36.16122641,  35.38514063,  34.53224028,\n",
       "        37.25496958,  37.31548713,  37.57238677,  39.03551551,\n",
       "        37.69062304,  38.54949492,  38.75011534,  40.53742303,\n",
       "        40.95520123,  43.468172  ,  42.45845125,  41.61619669,\n",
       "        41.77558537,  42.95672447,  45.6173557 ,  44.53333952,\n",
       "        45.08169426,  44.72440759,  44.39397325,  43.48559137,\n",
       "        45.83449912,  46.46413332,  46.08413372,  46.87955081,\n",
       "        47.09822517,  49.11306935,  50.66521063,  47.87710311,\n",
       "        50.6251438 ,  50.3729012 ,  51.25605559,  51.25405744,\n",
       "        52.44375578,  52.36585918,  53.88498442,  52.97381862,\n",
       "        53.9375638 ,  54.71830254,  53.23309795,  57.35101083])"
      ]
     },
     "execution_count": 9,
     "metadata": {},
     "output_type": "execute_result"
    }
   ],
   "source": [
    "# 生成模拟的点\n",
    "X = np.arange(0, 10, 0.1)\n",
    "Y = np.array([np.random.normal(i, 1) for i in [x*5+6 for x in X]])    # np.random.normal(i, 1) 对i,随机加减（0,1）内的数\n",
    "Y"
   ]
  },
  {
   "cell_type": "code",
   "execution_count": 11,
   "metadata": {},
   "outputs": [
    {
     "data": {
      "image/png": "[encoded data removed]",
      "text/plain": [
       "<matplotlib.figure.Figure at 0x8685da0>"
      ]
     },
     "metadata": {},
     "output_type": "display_data"
    }
   ],
   "source": [
    "plt.plot(X, Y, 'r.') \n",
    "plt.show()"
   ]
  },
  {
   "cell_type": "code",
   "execution_count": null,
   "metadata": {},
   "outputs": [],
   "source": []
  }
 ],
 "metadata": {
  "kernelspec": {
   "display_name": "Python 3",
   "language": "python",
   "name": "python3"
  },
  "language_info": {
   "codemirror_mode": {
    "name": "ipython",
    "version": 3
   },
   "file_extension": ".py",
   "mimetype": "text/x-python",
   "name": "python",
   "nbconvert_exporter": "python",
   "pygments_lexer": "ipython3",
   "version": "3.6.3"
  }
 },
 "nbformat": 4,
 "nbformat_minor": 2
}
